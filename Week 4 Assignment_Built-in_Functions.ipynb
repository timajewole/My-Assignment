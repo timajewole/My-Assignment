{
 "cells": [
  {
   "cell_type": "markdown",
   "id": "842da763-282e-4326-9a7a-ce700b13b8bb",
   "metadata": {},
   "source": [
    "### Beginner-Level\n",
    "##### 1. Write a program to find the length of the string 'Hello World!' using a built-in function."
   ]
  },
  {
   "cell_type": "code",
   "execution_count": 1,
   "id": "e7b9e72d-034b-4c3d-a7d9-54898dda610c",
   "metadata": {},
   "outputs": [
    {
     "name": "stdout",
     "output_type": "stream",
     "text": [
      "12\n"
     ]
    }
   ],
   "source": [
    "x = 'Hello World!'\n",
    "print(len(x))"
   ]
  },
  {
   "cell_type": "markdown",
   "id": "e078673d-4bd2-4892-8229-eea4384e4d73",
   "metadata": {},
   "source": [
    "##### 2. Use the type() function to check the data type of the variable my_var = 3.14."
   ]
  },
  {
   "cell_type": "code",
   "execution_count": 2,
   "id": "ccb0264a-e43a-463d-b142-1032eb6aab70",
   "metadata": {},
   "outputs": [
    {
     "name": "stdout",
     "output_type": "stream",
     "text": [
      "<class 'float'>\n"
     ]
    }
   ],
   "source": [
    "my_var = 3.14\n",
    "print(type(my_var))"
   ]
  },
  {
   "cell_type": "markdown",
   "id": "299277bc-aaf7-4541-9d85-044b09858407",
   "metadata": {},
   "source": [
    "##### 3. Calculate the sum of all numbers in the list [5, 10, 15] using a built-in function."
   ]
  },
  {
   "cell_type": "code",
   "execution_count": 3,
   "id": "49820b73-62e2-4d1a-98d1-129b97947281",
   "metadata": {},
   "outputs": [
    {
     "name": "stdout",
     "output_type": "stream",
     "text": [
      "30\n"
     ]
    }
   ],
   "source": [
    "numbers = [5, 10, 15]\n",
    "print(sum(numbers))"
   ]
  },
  {
   "cell_type": "markdown",
   "id": "b5a5f4a9-0bf0-49ee-a2fb-9dc6fc12b29e",
   "metadata": {},
   "source": [
    "##### 4. Use the min() function to find the smallest number in [8, 3, 12, 7]."
   ]
  },
  {
   "cell_type": "code",
   "execution_count": 4,
   "id": "b3695f66-b961-4770-8bda-64a07bb5c5d6",
   "metadata": {},
   "outputs": [
    {
     "name": "stdout",
     "output_type": "stream",
     "text": [
      "3\n"
     ]
    }
   ],
   "source": [
    "numbers = [8, 3, 12, 7]\n",
    "print(min(numbers))"
   ]
  },
  {
   "cell_type": "markdown",
   "id": "f77a1b56-2cb4-4aa3-acd7-5f87addf0ccb",
   "metadata": {},
   "source": [
    "##### 5. Write a program that takes user input and prints it in uppercase using a built-in function."
   ]
  },
  {
   "cell_type": "code",
   "execution_count": 7,
   "id": "d65e6bbc-6bf7-47a7-9672-f301f0a71700",
   "metadata": {},
   "outputs": [
    {
     "name": "stdin",
     "output_type": "stream",
     "text": [
      "Enter your name:  timothy\n"
     ]
    },
    {
     "name": "stdout",
     "output_type": "stream",
     "text": [
      "TIMOTHY\n"
     ]
    }
   ],
   "source": [
    "def print_uppercase():\n",
    "    name = input(\"Enter your name: \")\n",
    "    name_upper = name.upper()\n",
    "    print(name_upper)\n",
    "\n",
    "print_uppercase()\n",
    "\n"
   ]
  },
  {
   "cell_type": "markdown",
   "id": "9e25133d-314c-4274-b54c-7b6234cfd439",
   "metadata": {},
   "source": [
    "### Intermediate-Level\n",
    "##### 1. Sort the list [10, 5, 8, 3] in ascending and descending order using a built-in function."
   ]
  },
  {
   "cell_type": "code",
   "execution_count": 9,
   "id": "9107bf40-5c70-4ca4-bbc2-511b935e09db",
   "metadata": {},
   "outputs": [
    {
     "name": "stdout",
     "output_type": "stream",
     "text": [
      "[3, 5, 8, 10]\n",
      "[10, 8, 5, 3]\n"
     ]
    }
   ],
   "source": [
    "numbers = [10, 5, 8, 3]\n",
    "print(sorted(numbers))\n",
    "print(sorted(numbers, reverse=True))"
   ]
  },
  {
   "cell_type": "markdown",
   "id": "91d550dd-1f8f-4186-b677-8c359445dcee",
   "metadata": {},
   "source": [
    "##### 2. Write a program that accepts a list of numbers and filters out the odd numbers using the\n",
    "##### filter() function."
   ]
  },
  {
   "cell_type": "code",
   "execution_count": 11,
   "id": "569a1341-bc82-424a-b986-96ded751b102",
   "metadata": {},
   "outputs": [
    {
     "name": "stdout",
     "output_type": "stream",
     "text": [
      "The even numbers are: [2, 4, 6, 8, 10, 12, 14, 16, 18, 20]\n"
     ]
    }
   ],
   "source": [
    "def is_even(number):\n",
    "    return number % 2 == 0\n",
    "\n",
    "def filter_odd_numbers(numbers):\n",
    "    return list(filter(is_even, numbers))\n",
    "\n",
    "numbers = [1,2,3,4,5,6,7,8,9,10,11,12,13,14,15,16,17,18,19,20]\n",
    "filtered_numbers = filter_odd_numbers(numbers)\n",
    "print(f\"The even numbers are: {filtered_numbers}\")"
   ]
  },
  {
   "cell_type": "markdown",
   "id": "8585da3e-8a62-4599-b880-c7c0b65bbfec",
   "metadata": {},
   "source": [
    "##### 3. Use the zip() function to merge two lists: ['John', 'Jane'] and [80, 90]."
   ]
  },
  {
   "cell_type": "code",
   "execution_count": 16,
   "id": "99f5c02d-297e-4b52-a2d9-8f26413b9cfe",
   "metadata": {},
   "outputs": [
    {
     "name": "stdout",
     "output_type": "stream",
     "text": [
      "[('John', 80), ('Jane', 90)]\n"
     ]
    }
   ],
   "source": [
    "list1 = ['John', 'Jane']\n",
    "list2 = [80, 90]\n",
    "merged = zip(list1, list2)\n",
    "print(list(merged))"
   ]
  },
  {
   "cell_type": "markdown",
   "id": "8630a946-db9f-43ed-846c-c97d908dc811",
   "metadata": {},
   "source": [
    "##### 4. Write a program that rounds a floating-point number (e.g., 3.7654) to 2 decimal places\n",
    "##### using a built-in function."
   ]
  },
  {
   "cell_type": "code",
   "execution_count": 17,
   "id": "dc8397d0-9892-4110-8817-5921f179f9be",
   "metadata": {},
   "outputs": [
    {
     "name": "stdout",
     "output_type": "stream",
     "text": [
      "3.77\n"
     ]
    }
   ],
   "source": [
    "number = 3.7654\n",
    "rounded_number = round(number, 2)\n",
    "print(rounded_number)"
   ]
  },
  {
   "cell_type": "markdown",
   "id": "285ccc4d-1d0b-493d-8aa4-df6c44217c29",
   "metadata": {},
   "source": [
    "##### 5. Write a program that maps a function to square each number in the list [2, 4, 6, 8]."
   ]
  },
  {
   "cell_type": "code",
   "execution_count": 24,
   "id": "53fc370c-dc24-4c42-b60b-995982cb9810",
   "metadata": {},
   "outputs": [
    {
     "name": "stdout",
     "output_type": "stream",
     "text": [
      "[4, 16, 36, 64]\n"
     ]
    }
   ],
   "source": [
    "numbers = [2, 4, 6, 8]\n",
    "squares = map(lambda x:x**2, numbers)\n",
    "print(list(squares))"
   ]
  },
  {
   "cell_type": "markdown",
   "id": "645d662a-9731-4caf-bcaa-931b910dad22",
   "metadata": {},
   "source": [
    "### Advanced-Level\n",
    "##### 1. Write a program to evaluate a mathematical expression entered by the user using eval()."
   ]
  },
  {
   "cell_type": "code",
   "execution_count": 25,
   "id": "52e05751-7c51-4593-b202-4bbc79b1e685",
   "metadata": {},
   "outputs": [
    {
     "name": "stdout",
     "output_type": "stream",
     "text": [
      "100\n"
     ]
    }
   ],
   "source": [
    "expression = '5*20'\n",
    "print(eval(expression))"
   ]
  },
  {
   "cell_type": "markdown",
   "id": "30d748ef-27e7-4614-a89f-d77414a9c69d",
   "metadata": {},
   "source": [
    "##### 2. Create a program that combines two lists (e.g., names and marks) into a dictionary using the zip() function."
   ]
  },
  {
   "cell_type": "code",
   "execution_count": 27,
   "id": "e876d116-123d-4d0d-afcd-b4ecf88ecfb9",
   "metadata": {},
   "outputs": [
    {
     "name": "stdout",
     "output_type": "stream",
     "text": [
      "[('James', 80), ('John', 60), ('Jane', 90)]\n"
     ]
    }
   ],
   "source": [
    "names = [\"James\", \"John\", \"Jane\"]\n",
    "marks = [80, 60, 90]\n",
    "combined = zip(names, marks)\n",
    "print(list(combined))"
   ]
  },
  {
   "cell_type": "markdown",
   "id": "061ef689-d869-42a5-9e3f-73b3e73c4083",
   "metadata": {},
   "source": [
    "##### 3. Write a program that generates the Fibonacci sequence up to 10 terms using range() and list()."
   ]
  },
  {
   "cell_type": "code",
   "execution_count": 28,
   "id": "140775e8-c00a-4e95-987d-af6c224304ce",
   "metadata": {},
   "outputs": [
    {
     "name": "stdout",
     "output_type": "stream",
     "text": [
      "The first 10 terms of the Fibonacci sequence are: [0, 1, 1, 2, 3, 5, 8, 13, 21, 34]\n"
     ]
    }
   ],
   "source": [
    "def generate_fibonacci(n):\n",
    "    fibonacci_sequence = [0, 1]\n",
    "    for i in range(2, n):\n",
    "        next_number = fibonacci_sequence[-1] + fibonacci_sequence[-2]\n",
    "        fibonacci_sequence.append(next_number)\n",
    "    return fibonacci_sequence\n",
    "\n",
    "\n",
    "n = 10\n",
    "fibonacci_sequence = generate_fibonacci(n)\n",
    "print(f\"The first {n} terms of the Fibonacci sequence are: {fibonacci_sequence}\")\n"
   ]
  },
  {
   "cell_type": "markdown",
   "id": "b1e6533e-6541-451e-8698-387c09bcd949",
   "metadata": {},
   "source": [
    "##### 4. Use the map() function to apply a function that capitalizes each string in ['python', 'java','c++']."
   ]
  },
  {
   "cell_type": "code",
   "execution_count": 38,
   "id": "e3eb2e56-f2a1-4db9-8e9a-f341eff7c718",
   "metadata": {},
   "outputs": [
    {
     "name": "stdout",
     "output_type": "stream",
     "text": [
      "['Python', 'Java', 'C++']\n"
     ]
    }
   ],
   "source": [
    "def capitalize_string(x):\n",
    "    return x.capitalize()\n",
    "\n",
    "languages = ['python', 'java', 'c++']\n",
    "\n",
    "# Apply the capitalize_string function to each element in the list using map()\n",
    "capitalized_languages = list(map(capitalize_string, languages))\n",
    "\n",
    "print(capitalized_languages)"
   ]
  },
  {
   "cell_type": "markdown",
   "id": "5c9c7b5a-513e-4630-bf42-f090dc645462",
   "metadata": {},
   "source": [
    "##### 5. Write a program to filter out words shorter than 4 letters from the list ['cat', 'dog','elephant', 'tiger'] using filter()."
   ]
  },
  {
   "cell_type": "code",
   "execution_count": 41,
   "id": "22917ea0-ab64-4493-8799-38b06e148170",
   "metadata": {},
   "outputs": [
    {
     "name": "stdout",
     "output_type": "stream",
     "text": [
      "The words shorter than 4 are: ['cat', 'dog']\n"
     ]
    }
   ],
   "source": [
    "def is_shorter(words):\n",
    "    return len(words) < 4\n",
    "\n",
    "def filter_letters(letters):\n",
    "    return list(filter(is_shorter, letters))\n",
    "\n",
    "letters = ['cat', 'dog','elephant', 'tiger']\n",
    "filtered_letters = filter_letters(letters)\n",
    "print(f\"The words shorter than 4 are: {filtered_letters}\")"
   ]
  },
  {
   "cell_type": "code",
   "execution_count": null,
   "id": "04929c39-de96-416d-aa6f-d7d7f1cb5325",
   "metadata": {},
   "outputs": [],
   "source": []
  }
 ],
 "metadata": {
  "kernelspec": {
   "display_name": "Python 3 (ipykernel)",
   "language": "python",
   "name": "python3"
  },
  "language_info": {
   "codemirror_mode": {
    "name": "ipython",
    "version": 3
   },
   "file_extension": ".py",
   "mimetype": "text/x-python",
   "name": "python",
   "nbconvert_exporter": "python",
   "pygments_lexer": "ipython3",
   "version": "3.12.7"
  }
 },
 "nbformat": 4,
 "nbformat_minor": 5
}
