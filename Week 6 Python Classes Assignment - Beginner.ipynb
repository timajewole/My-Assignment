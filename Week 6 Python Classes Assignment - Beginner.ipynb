{
 "cells": [
  {
   "cell_type": "markdown",
   "id": "cb9ebc6e-ac53-421a-9757-d5742e052b25",
   "metadata": {},
   "source": [
    "### Beginner Questions\n",
    "1. Define a class called Person with attributes name and age. Create an instance and print the details."
   ]
  },
  {
   "cell_type": "code",
   "execution_count": 1,
   "id": "1776493c-afe0-4281-aa30-4209bdd2c7b8",
   "metadata": {},
   "outputs": [
    {
     "name": "stdout",
     "output_type": "stream",
     "text": [
      "My name is Timothy and I'm 47 years old\n"
     ]
    }
   ],
   "source": [
    "class Person:\n",
    "    def __init__(self, name, age):\n",
    "        self.name = name\n",
    "        self.age = age\n",
    "\n",
    "    def display_info(self):\n",
    "        print(f\"My name is {self.name} and I'm {self.age} years old\")\n",
    "\n",
    "my_person = Person(\"Timothy\", 47)\n",
    "my_person.display_info()"
   ]
  },
  {
   "cell_type": "markdown",
   "id": "0058c9da-d127-40bd-92a2-ef040a2fbdbc",
   "metadata": {},
   "source": [
    "2. Create a class Rectangle with attributes length and width and a method to calculate area."
   ]
  },
  {
   "cell_type": "code",
   "execution_count": 16,
   "id": "326dbd06-0906-4256-b942-cf4a90196350",
   "metadata": {},
   "outputs": [
    {
     "name": "stdout",
     "output_type": "stream",
     "text": [
      "The area of the rectangle is: 35\n"
     ]
    }
   ],
   "source": [
    "class Rectangle:\n",
    "    def __init__(self, length, width):\n",
    "        self.length = length\n",
    "        self.width = width\n",
    "\n",
    "    def area_calculation(self):\n",
    "        return self.length * self.width\n",
    "\n",
    "rectangle = Rectangle(5, 7)\n",
    "area = rectangle.area_calculation()\n",
    "print(f\"The area of the rectangle is: {area}\")\n"
   ]
  },
  {
   "cell_type": "markdown",
   "id": "814e3fff-43f1-430c-9382-b28f84e9ecd7",
   "metadata": {},
   "source": [
    "3. Define a class Student with name and marks. Create multiple instances and display their details."
   ]
  },
  {
   "cell_type": "code",
   "execution_count": 17,
   "id": "f231883f-3e2b-4d5a-8b0e-07c885bd3880",
   "metadata": {},
   "outputs": [
    {
     "name": "stdout",
     "output_type": "stream",
     "text": [
      "The name of the student is Timothy\n",
      "The mark of Timothy is 80\n"
     ]
    }
   ],
   "source": [
    "class Student:\n",
    "    def __init__(self, name, marks):\n",
    "        self.name = name \n",
    "        self.marks = marks\n",
    "\n",
    "    def display_name(self):\n",
    "        print(f\"The name of the student is {self.name}\")\n",
    "    def display_marks(self):\n",
    "        print(f\"The mark of {self.name} is {self.marks}\")\n",
    "\n",
    "my_student = Student(\"Timothy\", 80)\n",
    "my_student.display_name()\n",
    "my_student.display_marks()\n",
    "        "
   ]
  },
  {
   "cell_type": "markdown",
   "id": "10a50953-4c47-46fa-aec1-dd22742f8979",
   "metadata": {},
   "source": [
    "4. Write a class Book with attributes title and author. Add a method to display details."
   ]
  },
  {
   "cell_type": "code",
   "execution_count": 31,
   "id": "bff27407-487e-4e14-abe1-ef354e74c886",
   "metadata": {},
   "outputs": [
    {
     "name": "stdout",
     "output_type": "stream",
     "text": [
      "The author of Things Fall Apart is Chinua Achebe\n",
      "The author of Senior Seconday Physics is P.N Okeke\n",
      "Total Books: 2\n"
     ]
    }
   ],
   "source": [
    "class Book:\n",
    "    \n",
    "    total_books = 0\n",
    "    \n",
    "    def __init__(self, title, author):\n",
    "        self.title = title\n",
    "        self.author = author\n",
    "        Book.total_books +=1\n",
    "\n",
    "    def author(self):\n",
    "        print(f\"The author of {self.title} is {self.author}\")\n",
    "    \n",
    "    @classmethod\n",
    "    def get_total_books(cls):\n",
    "        print(f\"Total Books: {cls.total_books}\")\n",
    "\n",
    "    \n",
    "book1 = Book(\"Things Fall Apart\", \"Chinua Achebe\")\n",
    "book2 = Book(\"Senior Seconday Physics\", \"P.N Okeke\")\n",
    "\n",
    "Book.author(book1)\n",
    "Book.author(book2)\n",
    "Book.get_total_books()   "
   ]
  },
  {
   "cell_type": "markdown",
   "id": "a3017b8e-236a-4f63-82c4-2eec124d3f22",
   "metadata": {},
   "source": [
    "5. Create a Laptop class with attributes brand, processor, and RAM. Write a method to print specifications."
   ]
  },
  {
   "cell_type": "code",
   "execution_count": 33,
   "id": "f542def4-3e0b-4513-be73-d1b0775126a8",
   "metadata": {},
   "outputs": [
    {
     "name": "stdout",
     "output_type": "stream",
     "text": [
      "The laptop brand and specfifications are HP, Intel 7.0, 16GB\n"
     ]
    }
   ],
   "source": [
    "class Laptop:\n",
    "    def __init__(self, brand, processor, ram):\n",
    "        self.brand = brand\n",
    "        self.processor = processor\n",
    "        self.ram = ram\n",
    "\n",
    "    def laptop_spec(self):\n",
    "        print(f\"The laptop brand and specfifications are {self.brand}, {self.processor}, {self.ram}\")\n",
    "\n",
    "laptop1 = Laptop(\"HP\", \"Intel 7.0\", \"16GB\")\n",
    "laptop1.laptop_spec()"
   ]
  },
  {
   "cell_type": "code",
   "execution_count": null,
   "id": "e4c1df21-40b1-4a99-bccc-4dac57a7a0b0",
   "metadata": {},
   "outputs": [],
   "source": []
  }
 ],
 "metadata": {
  "kernelspec": {
   "display_name": "Python 3 (ipykernel)",
   "language": "python",
   "name": "python3"
  },
  "language_info": {
   "codemirror_mode": {
    "name": "ipython",
    "version": 3
   },
   "file_extension": ".py",
   "mimetype": "text/x-python",
   "name": "python",
   "nbconvert_exporter": "python",
   "pygments_lexer": "ipython3",
   "version": "3.12.7"
  }
 },
 "nbformat": 4,
 "nbformat_minor": 5
}
