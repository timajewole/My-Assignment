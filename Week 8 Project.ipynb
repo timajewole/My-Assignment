{
 "cells": [
  {
   "cell_type": "markdown",
   "id": "b9a7325e-d291-4ca6-9aac-cc4d139d5611",
   "metadata": {},
   "source": [
    "**1. Change request Management System**\n",
    "\n",
    "Create a system that helps manage change request records by adding, updating, and deleting log information.\n",
    "\n",
    "**Requirements:**\n",
    "\n",
    "1.\tAllow users to add new log (ref number, region, technology, requester name, requester date, CR objective, approved by, approval status).\n",
    "2.\tEnable updating log details.\n",
    "3.\tProvide an option to delete a log record.\n",
    "4.\tDisplay the list of all logs or change request.\n",
    "5.\tImplement exception handling to prevent errors (e.g., invalid inputs).\n",
    "\n",
    "**How It Works:**\n",
    "\n",
    "•\tThe program runs a menu system where users choose options like change request, Update change request, delete change request, or View All change request. \n",
    "\n",
    "•\tChange requests are stored as objects with attributes like ref number, region, technology, requester name, requester date, CR objective, approved by, approval status.\n",
    "\n",
    "•\tUsers can input a ref number to modify or remove them from the system.\n"
   ]
  },
  {
   "cell_type": "code",
   "execution_count": null,
   "id": "fc46f7c8-2b2a-4bf2-8236-d98f26cf576c",
   "metadata": {},
   "outputs": [
    {
     "name": "stdout",
     "output_type": "stream",
     "text": [
      "\n",
      "Change Request Management System\n",
      "1. Add Change Request\n",
      "2. Update Change Request\n",
      "3. Delete Change Request\n",
      "4. View All Change Requests\n",
      "5. Exit\n"
     ]
    },
    {
     "name": "stdin",
     "output_type": "stream",
     "text": [
      "Choose an option:  1\n",
      "Enter reference number:  IBD_CR_0000001_05/08/2025\n",
      "Enter region:  Ibadan\n",
      "Enter technology:  5G\n",
      "Enter requester name:  Timothy Ajewole\n",
      "Enter requester date:  8th May 2025\n",
      "Enter CR objective:  5G UL Retransmissions Scheduling Optimization\n",
      "Enter approved by:  Eki Majoroh\n",
      "Enter approval status:  Open\n"
     ]
    },
    {
     "name": "stdout",
     "output_type": "stream",
     "text": [
      "Change request added successfully!\n",
      "\n",
      "Change Request Management System\n",
      "1. Add Change Request\n",
      "2. Update Change Request\n",
      "3. Delete Change Request\n",
      "4. View All Change Requests\n",
      "5. Exit\n"
     ]
    },
    {
     "name": "stdin",
     "output_type": "stream",
     "text": [
      "Choose an option:  2\n",
      "Enter reference number to update:  IBD_CR_0000001_05/08/2025\n",
      "Enter new region (or press enter to skip):  Ibadan\n",
      "Enter new technology (or press enter to skip):  5G\n",
      "Enter new requester name (or press enter to skip):  Jonah Okoji\n",
      "Enter new requester date (or press enter to skip):  9th May 2025\n",
      "Enter new CR objective (or press enter to skip):  5G UL Retransmissions Scheduling Optimization. Requester name updated only\n",
      "Enter new approved by (or press enter to skip):  Eki Majoroh\n",
      "Enter new approval status (or press enter to skip):  9th May 2025\n"
     ]
    },
    {
     "name": "stdout",
     "output_type": "stream",
     "text": [
      "Change request updated successfully!\n",
      "\n",
      "Change Request Management System\n",
      "1. Add Change Request\n",
      "2. Update Change Request\n",
      "3. Delete Change Request\n",
      "4. View All Change Requests\n",
      "5. Exit\n"
     ]
    },
    {
     "name": "stdin",
     "output_type": "stream",
     "text": [
      "Choose an option:  4\n"
     ]
    },
    {
     "name": "stdout",
     "output_type": "stream",
     "text": [
      "Ref Number: IBD_CR_0000001_05/08/2025, Region: Ibadan, Technology: 5G, Requester: Jonah Okoji, Date: 9th May 2025, Objective: 5G UL Retransmissions Scheduling Optimization. Requester name updated only, Approved By: Eki Majoroh, Status: 9th May 2025\n",
      "\n",
      "Change Request Management System\n",
      "1. Add Change Request\n",
      "2. Update Change Request\n",
      "3. Delete Change Request\n",
      "4. View All Change Requests\n",
      "5. Exit\n"
     ]
    }
   ],
   "source": [
    "class ChangeRequest:\n",
    "    def __init__(self, ref_number, region, technology, requester_name, requester_date, cr_objective, approved_by, approval_status):\n",
    "        self.ref_number = ref_number\n",
    "        self.region = region\n",
    "        self.technology = technology\n",
    "        self.requester_name = requester_name\n",
    "        self.requester_date = requester_date\n",
    "        self.cr_objective = cr_objective\n",
    "        self.approved_by = approved_by\n",
    "        self.approval_status = approval_status\n",
    "\n",
    "    def update(self, region=None, technology=None, requester_name=None, requester_date=None, cr_objective=None, approved_by=None, approval_status=None):\n",
    "        if region: self.region = region\n",
    "        if technology: self.technology = technology\n",
    "        if requester_name: self.requester_name = requester_name\n",
    "        if requester_date: self.requester_date = requester_date\n",
    "        if cr_objective: self.cr_objective = cr_objective\n",
    "        if approved_by: self.approved_by = approved_by\n",
    "        if approval_status: self.approval_status = approval_status\n",
    "\n",
    "    def __str__(self):\n",
    "        return f\"Ref Number: {self.ref_number}, Region: {self.region}, Technology: {self.technology}, Requester: {self.requester_name}, Date: {self.requester_date}, Objective: {self.cr_objective}, Approved By: {self.approved_by}, Status: {self.approval_status}\"\n",
    "\n",
    "class ChangeRequestSystem:\n",
    "    def __init__(self):\n",
    "        self.requests = []\n",
    "\n",
    "    def add_request(self):\n",
    "        try:\n",
    "            ref_number = input(\"Enter reference number: \")\n",
    "            region = input(\"Enter region: \")\n",
    "            technology = input(\"Enter technology: \")\n",
    "            requester_name = input(\"Enter requester name: \")\n",
    "            requester_date = input(\"Enter requester date: \")\n",
    "            cr_objective = input(\"Enter CR objective: \")\n",
    "            approved_by = input(\"Enter approved by: \")\n",
    "            approval_status = input(\"Enter approval status: \")\n",
    "            new_request = ChangeRequest(ref_number, region, technology, requester_name, requester_date, cr_objective, approved_by, approval_status)\n",
    "            self.requests.append(new_request)\n",
    "            print(\"Change request added successfully!\")\n",
    "        except Exception as e:\n",
    "            print(f\"Error adding request: {e}\")\n",
    "\n",
    "    def update_request(self):\n",
    "        try:\n",
    "            ref_number = input(\"Enter reference number to update: \")\n",
    "            for request in self.requests:\n",
    "                if request.ref_number == ref_number:\n",
    "                    request.update(\n",
    "                        region=input(\"Enter new region (or press enter to skip): \"),\n",
    "                        technology=input(\"Enter new technology (or press enter to skip): \"),\n",
    "                        requester_name=input(\"Enter new requester name (or press enter to skip): \"),\n",
    "                        requester_date=input(\"Enter new requester date (or press enter to skip): \"),\n",
    "                        cr_objective=input(\"Enter new CR objective (or press enter to skip): \"),\n",
    "                        approved_by=input(\"Enter new approved by (or press enter to skip): \"),\n",
    "                        approval_status=input(\"Enter new approval status (or press enter to skip): \"),\n",
    "                    )\n",
    "                    print(\"Change request updated successfully!\")\n",
    "                    return\n",
    "            print(\"Change request not found.\")\n",
    "        except Exception as e:\n",
    "            print(f\"Error updating request: {e}\")\n",
    "\n",
    "    def delete_request(self):\n",
    "        try:\n",
    "            ref_number = input(\"Enter reference number to delete: \")\n",
    "            self.requests = [request for request in self.requests if request.ref_number != ref_number]\n",
    "            print(\"Change request deleted successfully!\")\n",
    "        except Exception as e:\n",
    "            print(f\"Error deleting request: {e}\")\n",
    "\n",
    "    def view_requests(self):\n",
    "        if not self.requests:\n",
    "            print(\"No change requests found.\")\n",
    "            return\n",
    "        for request in self.requests:\n",
    "            print(request)\n",
    "\n",
    "    def run(self):\n",
    "        while True:\n",
    "            print(\"\\nChange Request Management System\")\n",
    "            print(\"1. Add Change Request\")\n",
    "            print(\"2. Update Change Request\")\n",
    "            print(\"3. Delete Change Request\")\n",
    "            print(\"4. View All Change Requests\")\n",
    "            print(\"5. Exit\")\n",
    "            choice = input(\"Choose an option: \")\n",
    "\n",
    "            if choice == \"1\":\n",
    "                self.add_request()\n",
    "            elif choice == \"2\":\n",
    "                self.update_request()\n",
    "            elif choice == \"3\":\n",
    "                self.delete_request()\n",
    "            elif choice == \"4\":\n",
    "                self.view_requests()\n",
    "            elif choice == \"5\":\n",
    "                print(\"Exiting system. Goodbye!\")\n",
    "                break\n",
    "            else:\n",
    "                print(\"Invalid choice. Please try again.\")\n",
    "\n",
    "if __name__ == \"__main__\":\n",
    "    system = ChangeRequestSystem()\n",
    "    system.run()"
   ]
  },
  {
   "cell_type": "code",
   "execution_count": null,
   "id": "89d539a9-e472-4bfe-832b-46aac227693e",
   "metadata": {},
   "outputs": [],
   "source": []
  }
 ],
 "metadata": {
  "kernelspec": {
   "display_name": "Python 3 (ipykernel)",
   "language": "python",
   "name": "python3"
  },
  "language_info": {
   "codemirror_mode": {
    "name": "ipython",
    "version": 3
   },
   "file_extension": ".py",
   "mimetype": "text/x-python",
   "name": "python",
   "nbconvert_exporter": "python",
   "pygments_lexer": "ipython3",
   "version": "3.12.7"
  }
 },
 "nbformat": 4,
 "nbformat_minor": 5
}
