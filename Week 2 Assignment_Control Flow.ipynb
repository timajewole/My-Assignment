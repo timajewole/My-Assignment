{
 "cells": [
  {
   "cell_type": "markdown",
   "id": "e7df7072-79d0-48d0-acc3-6eabbc8f38c3",
   "metadata": {},
   "source": [
    "### 1. Positive or Negative Number Check\n",
    "##### Write a Python program to check if a number is positive, negative, or zero.\n",
    "##### Hint: Use an if-elif-else statement to compare the number with 0."
   ]
  },
  {
   "cell_type": "code",
   "execution_count": 36,
   "id": "030da3d0-4d8e-4e0d-99d6-ed19696449bc",
   "metadata": {},
   "outputs": [
    {
     "name": "stdin",
     "output_type": "stream",
     "text": [
      " -2\n"
     ]
    },
    {
     "name": "stdout",
     "output_type": "stream",
     "text": [
      "The number -2 is Negative.\n"
     ]
    }
   ],
   "source": [
    "def check_number(num):\n",
    "    if num > 0:\n",
    "        return \"Positive\"\n",
    "    elif num < 0:\n",
    "        return \"Negative\"\n",
    "    else:\n",
    "        return \"Zero\"\n",
    "\n",
    "# Example usage\n",
    "num = int(input())\n",
    "result = check_number(num)\n",
    "print(f\"The number {num} is {result}.\")"
   ]
  },
  {
   "cell_type": "markdown",
   "id": "1f544530-d889-4679-8d67-7343e048d098",
   "metadata": {},
   "source": [
    "### 2. Age Categorization\n",
    "##### Create a Python program that takes a person's age as input and categorizes them:\n",
    "##### Child: 0–12 years\n",
    "##### Teenager: 13–19 years\n",
    "##### Adult: 20–59 years\n",
    "##### Senior: 60+ years\n",
    "##### Hint: Use if-elif-else conditions to define the categories.\n",
    "##### Expected Output Example:\n",
    "##### For age = 25, the output should be:\n",
    "##### \"You are an Adult.\""
   ]
  },
  {
   "cell_type": "code",
   "execution_count": 38,
   "id": "5ef6357b-d1c5-4de8-b283-ebf070930039",
   "metadata": {},
   "outputs": [
    {
     "name": "stdin",
     "output_type": "stream",
     "text": [
      "Enter the person's age:  60\n"
     ]
    },
    {
     "name": "stdout",
     "output_type": "stream",
     "text": [
      "The person is categorized as: Senior\n"
     ]
    }
   ],
   "source": [
    "def age_bracket(age):\n",
    "    if 0 <= age <=12:\n",
    "        return \"Child\"\n",
    "    elif 13 <= age <=19:\n",
    "        return \"Teenager\"\n",
    "    elif 20 <= age <=59:\n",
    "        return \"Adult\"\n",
    "    elif age >= 60:\n",
    "        return \"Senior\"\n",
    "    else:\n",
    "        return \"Invalid age\"\n",
    "\n",
    "age = int(input(\"Enter the person's age: \"))\n",
    "result = age_bracket(age)\n",
    "print(f\"The person is categorized as: {result}\")"
   ]
  },
  {
   "cell_type": "markdown",
   "id": "35a1a84d-3a27-4eaa-9e5f-66c7c575f0a5",
   "metadata": {},
   "source": [
    "### 3. Grade Checker\n",
    "##### Write a Python program that calculates the grade of a student based on their score using these conditions:\n",
    "##### 90 and above: Grade A\n",
    "##### 80–89: Grade B\n",
    "##### 70–79: Grade C\n",
    "##### 60–69: Grade D\n",
    "##### Below 60: Grade F\n",
    "##### Expected Output Example:\n",
    "##### For score = 85, the output should be:\n",
    "##### \"Your grade is B.\""
   ]
  },
  {
   "cell_type": "code",
   "execution_count": 40,
   "id": "d1c17189-c8d2-4885-abbb-7efb99215fbc",
   "metadata": {},
   "outputs": [
    {
     "name": "stdin",
     "output_type": "stream",
     "text": [
      "Enter the person's score:  90\n"
     ]
    },
    {
     "name": "stdout",
     "output_type": "stream",
     "text": [
      "Your grade is Grade A\n"
     ]
    }
   ],
   "source": [
    "def grade_score(score):\n",
    "    if 90 <= score <= 100:\n",
    "        return \"Grade A\"\n",
    "    elif 80 <= score <= 89:\n",
    "        return \"Grade B\"\n",
    "    elif 70 <= score <= 79:\n",
    "        return \"Grade C\"\n",
    "    elif 60 <= score <= 69:\n",
    "        return \"Grade D\"\n",
    "    elif score <60:\n",
    "        return \"Grade F\"\n",
    "\n",
    "score = int(input(\"Enter the person's score: \"))\n",
    "result = grade_score(score)\n",
    "print(f\"Your grade is {result}\")"
   ]
  },
  {
   "cell_type": "markdown",
   "id": "93f3c35d-f117-4b3b-8f56-4970ad046b44",
   "metadata": {},
   "source": [
    "### 4. Print Numbers (For Loop)\n",
    "##### Write a program to print all the numbers from 1 to 10 using a for loop."
   ]
  },
  {
   "cell_type": "code",
   "execution_count": 5,
   "id": "11ca1af0-3160-4fe4-9e5f-9e7cc2daa0f9",
   "metadata": {},
   "outputs": [
    {
     "name": "stdout",
     "output_type": "stream",
     "text": [
      "1\n",
      "2\n",
      "3\n",
      "4\n",
      "5\n",
      "6\n",
      "7\n",
      "8\n",
      "9\n",
      "10\n"
     ]
    }
   ],
   "source": [
    "for i in range(1, 11):\n",
    "    print(i)"
   ]
  },
  {
   "cell_type": "markdown",
   "id": "6e5a73bf-8621-4b86-9aab-e0a07216258c",
   "metadata": {},
   "source": [
    "### 5. Countdown Timer (While Loop)\n",
    "##### Write a program that asks the user to input a number and then counts down to 0 using a while loop.\n",
    "##### Output Example:\n",
    "##### Input: 5\n",
    "##### Output: \"5, 4, 3, 2, 1, 0\""
   ]
  },
  {
   "cell_type": "code",
   "execution_count": 7,
   "id": "511a39f8-e629-4b44-b5a0-31e6a2e7955e",
   "metadata": {},
   "outputs": [
    {
     "name": "stdin",
     "output_type": "stream",
     "text": [
      "Enter a number:  7\n"
     ]
    },
    {
     "name": "stdout",
     "output_type": "stream",
     "text": [
      "7\n",
      "6\n",
      "5\n",
      "4\n",
      "3\n",
      "2\n",
      "1\n",
      "0\n"
     ]
    }
   ],
   "source": [
    "number = int(input(\"Enter a number: \"))\n",
    "\n",
    "def countdown(number):\n",
    "    while number >=0:\n",
    "        print(number)\n",
    "        number -=1\n",
    "\n",
    "countdown(number)"
   ]
  },
  {
   "cell_type": "markdown",
   "id": "300f530b-2389-43b0-b8ca-64cdc335f4ac",
   "metadata": {},
   "source": [
    "## Intermediate Questions (5)\n",
    "### 1. Sum of Even Numbers\n",
    "#####  Create a Python program that calculates the sum of all even numbers between 1 and 50 using a for loop.\n",
    "##### Hint: Use the range() function with steps of 2 to iterate over even numbers.\n",
    "##### Expected Output Example:\n",
    "##### \"The sum of even numbers from 1 to 50 is 650.\""
   ]
  },
  {
   "cell_type": "code",
   "execution_count": 8,
   "id": "1b9fc54d-0c0c-4bbe-bb9b-3944d935948d",
   "metadata": {},
   "outputs": [
    {
     "name": "stdout",
     "output_type": "stream",
     "text": [
      "The sum of all even numbers between 1 and 50 is: 650\n"
     ]
    }
   ],
   "source": [
    "def sum_even_numbers():\n",
    "    total = 0\n",
    "    for num in range(1, 51):\n",
    "        if num % 2 == 0:\n",
    "            total += num\n",
    "    return total\n",
    "\n",
    "result = sum_even_numbers()\n",
    "print(f\"The sum of all even numbers between 1 and 50 is: {result}\")\n"
   ]
  },
  {
   "cell_type": "markdown",
   "id": "94afcfd9-8ee4-45bf-8b45-928d69f04d0b",
   "metadata": {},
   "source": [
    "## 2. Simple Guessing Game\n",
    "### Write a Python program that simulates a simple guessing game:\n",
    "##### 1. Use a while loop to ask the user to guess a number between 1 and 20.\n",
    "#####  2. If the guess is correct, print “Congratulations! You guessed it!” and exit the loop.\n",
    "#####  3. If the guess is too high or too low, provide feedback and let them guess again.\n",
    "##### 4. The program should stop after 5 incorrect attempts and print “Game Over.”\n",
    "#####  Hint:\n",
    "#####  Use a random number generator (random.randint()) to set the correct number.\n",
    "#####  Use a counter to track the number of attempts."
   ]
  },
  {
   "cell_type": "code",
   "execution_count": 41,
   "id": "09c6048e-8cbd-4be0-89cb-f952b7a3f33b",
   "metadata": {},
   "outputs": [
    {
     "name": "stdin",
     "output_type": "stream",
     "text": [
      "Guess a number between 1 and 20:  1\n"
     ]
    },
    {
     "name": "stdout",
     "output_type": "stream",
     "text": [
      "Too low! Try again.\n"
     ]
    },
    {
     "name": "stdin",
     "output_type": "stream",
     "text": [
      "Guess a number between 1 and 20:  10\n"
     ]
    },
    {
     "name": "stdout",
     "output_type": "stream",
     "text": [
      "Too high! Try again.\n"
     ]
    },
    {
     "name": "stdin",
     "output_type": "stream",
     "text": [
      "Guess a number between 1 and 20:  8\n"
     ]
    },
    {
     "name": "stdout",
     "output_type": "stream",
     "text": [
      "Congratulations! You guessed it!\n"
     ]
    }
   ],
   "source": [
    "import random\n",
    "\n",
    "def guessing_game():\n",
    "    # Generate a random number between 1 and 20\n",
    "    secret_number = random.randint(1, 20)\n",
    "    attempts = 0\n",
    "\n",
    "    while attempts < 5:\n",
    "        guess = int(input(\"Guess a number between 1 and 20: \"))\n",
    "        attempts += 1\n",
    "\n",
    "        if guess == secret_number:\n",
    "            print(\"Congratulations! You guessed it!\")\n",
    "            break\n",
    "        elif guess < secret_number:\n",
    "            print(\"Too low! Try again.\")\n",
    "        else:\n",
    "            print(\"Too high! Try again.\")\n",
    "\n",
    "    if attempts == 5 and guess != secret_number:\n",
    "        print(\"Game Over. The correct number was\", secret_number)\n",
    "\n",
    "# Example usage\n",
    "guessing_game()"
   ]
  },
  {
   "cell_type": "markdown",
   "id": "d45c41d4-af0f-4567-82c6-2cadd1ddf653",
   "metadata": {},
   "source": [
    "### 3. Password Checker (If Statement + While Loop)\n",
    "##### Create a program that:\n",
    "##### Asks the user to enter a password.\n",
    "##### Checks if the password matches a predefined value (e.g., \"python123\").\n",
    "##### If incorrect, lets the user try again.\n",
    "##### Stops and prints \"Access Granted\" when the correct password is entered."
   ]
  },
  {
   "cell_type": "code",
   "execution_count": 14,
   "id": "79b38a39-e258-4618-aad1-23b7dc576151",
   "metadata": {},
   "outputs": [
    {
     "name": "stdin",
     "output_type": "stream",
     "text": [
      "Enter the password:  Python123\n"
     ]
    },
    {
     "name": "stdout",
     "output_type": "stream",
     "text": [
      "Incorrect password. Try again.\n"
     ]
    },
    {
     "name": "stdin",
     "output_type": "stream",
     "text": [
      "Enter the password:  python123\n"
     ]
    },
    {
     "name": "stdout",
     "output_type": "stream",
     "text": [
      "Access Granted\n"
     ]
    }
   ],
   "source": [
    "def password_checker():\n",
    "    predefined_password = \"python123\"\n",
    "    while True:\n",
    "        password = input(\"Enter the password: \")\n",
    "        if password == predefined_password:\n",
    "            print(\"Access Granted\")\n",
    "            break\n",
    "        else:\n",
    "            print(\"Incorrect password. Try again.\")\n",
    "\n",
    "# Example usage\n",
    "password_checker()"
   ]
  },
  {
   "cell_type": "markdown",
   "id": "dfb35137-f314-477c-9643-3fd2f35de627",
   "metadata": {},
   "source": [
    "### 4. Nested Loops Practice\n",
    "##### Write a program that prints a pattern using nested loops:"
   ]
  },
  {
   "cell_type": "code",
   "execution_count": 21,
   "id": "7fc5028e-729c-40e1-b7a2-f30a27e1ef06",
   "metadata": {},
   "outputs": [
    {
     "name": "stdin",
     "output_type": "stream",
     "text": [
      "Enter a number:  5\n"
     ]
    },
    {
     "name": "stdout",
     "output_type": "stream",
     "text": [
      "*\n",
      "**\n",
      "***\n",
      "****\n",
      "*****\n"
     ]
    }
   ],
   "source": [
    "def print_pattern(rows):\n",
    "    for i in range(1, rows + 1):\n",
    "        for j in range(i):\n",
    "            print(\"*\", end=\"\")\n",
    "        print()\n",
    "\n",
    "# Example usage\n",
    "rows = int(input(\"Enter a number: \"))\n",
    "print_pattern(rows)"
   ]
  },
  {
   "cell_type": "markdown",
   "id": "1c81f73f-5ab1-4dbd-a8c3-37d8d42c7287",
   "metadata": {},
   "source": [
    "### 5. Number Triangle\n",
    "#####  Create a program that uses nested loops to print the following triangle:\n",
    "##### 1\n",
    "##### 1 2\n",
    "##### 1 2 3\n",
    "##### 1 2 3 4\n",
    "##### 1 2 3 4 5"
   ]
  },
  {
   "cell_type": "code",
   "execution_count": 42,
   "id": "e626b58c-85bb-47b1-8bf7-2f11e8a8dc12",
   "metadata": {},
   "outputs": [
    {
     "name": "stdin",
     "output_type": "stream",
     "text": [
      "Enter a number for your triangle:\t 5\n"
     ]
    },
    {
     "name": "stdout",
     "output_type": "stream",
     "text": [
      "1 \t\n",
      "1 2 \t\n",
      "1 2 3 \t\n",
      "1 2 3 4 \t\n",
      "1 2 3 4 5 \t\n"
     ]
    }
   ],
   "source": [
    "num_triangle = int(input(\"Enter a number for your triangle:\\t\"))\n",
    "for i in range(1, num_triangle+1):\n",
    "    for j in range(1, i+1):\n",
    "        print(j, end=\" \")\n",
    "    print(\"\\t\") "
   ]
  },
  {
   "cell_type": "markdown",
   "id": "034c5ab7-675b-4bc5-b5ea-17e8823996dc",
   "metadata": {},
   "source": [
    "## Advanced Questions (5)\n",
    "### 1. Advanced Grade Checker\n",
    "##### Enhance the grade checker program to handle invalid scores:\n",
    "##### If the score is less than 0 or greater than 100, print \"Invalid score.\"\n",
    "##### Hint: Use nested conditional statements or logical operators."
   ]
  },
  {
   "cell_type": "code",
   "execution_count": 49,
   "id": "d4905ff3-e97d-4490-8806-5bbc79e3d268",
   "metadata": {},
   "outputs": [
    {
     "name": "stdin",
     "output_type": "stream",
     "text": [
      "Enter grade:  101\n"
     ]
    },
    {
     "name": "stdout",
     "output_type": "stream",
     "text": [
      "Your grade is Invalid Score\n"
     ]
    }
   ],
   "source": [
    "def grade_checker(score):\n",
    "    if 90<= score <= 100:\n",
    "        return \"Grade A\"\n",
    "    if 80<= score <= 89:\n",
    "        return \"Grade B\"\n",
    "    if 70<= score <= 79:\n",
    "        return \"Grade C\"\n",
    "    if 60<= score <= 69:\n",
    "        return \"Grade C\"\n",
    "    if 50<= score <= 59:\n",
    "        return \"Grade D\"\n",
    "    if 0<= score <= 49:\n",
    "        return \"Grade F\"\n",
    "    if score < 0 or score > 100:\n",
    "        return \"Invalid Score\"\n",
    "\n",
    "score = int(input(\"Enter grade: \"))\n",
    "result = grade_checker(score)\n",
    "print(f\"Your grade is {result}\")"
   ]
  },
  {
   "cell_type": "markdown",
   "id": "162d6fe6-7105-4fa3-90f0-dab9d2ef67d1",
   "metadata": {},
   "source": [
    "### 2. Guessing Game with Enhanced Feedback\n",
    "##### Improve the guessing game to:\n",
    "##### Include a scoring system where closer guesses receive fewer penalty points.\n",
    "##### Display the final score when the game ends."
   ]
  },
  {
   "cell_type": "code",
   "execution_count": 47,
   "id": "1eaa4859-57e4-4dba-a5b5-5a6740cdb96e",
   "metadata": {},
   "outputs": [
    {
     "name": "stdin",
     "output_type": "stream",
     "text": [
      "Guess a number between 1 and 20:  10\n"
     ]
    },
    {
     "name": "stdout",
     "output_type": "stream",
     "text": [
      "Too low! Try again.\n"
     ]
    },
    {
     "name": "stdin",
     "output_type": "stream",
     "text": [
      "Guess a number between 1 and 20:  15\n"
     ]
    },
    {
     "name": "stdout",
     "output_type": "stream",
     "text": [
      "Too low! Try again.\n"
     ]
    },
    {
     "name": "stdin",
     "output_type": "stream",
     "text": [
      "Guess a number between 1 and 20:  18\n"
     ]
    },
    {
     "name": "stdout",
     "output_type": "stream",
     "text": [
      "Congratulations! You guessed it!\n",
      "Your final score is: 89\n"
     ]
    }
   ],
   "source": [
    "import random\n",
    "\n",
    "def guessing_game():\n",
    "    # Generate a random number between 1 and 20\n",
    "    secret_number = random.randint(1, 20)\n",
    "    attempts = 0\n",
    "    score = 100  # Starting score\n",
    "\n",
    "    while attempts < 5:\n",
    "        guess = int(input(\"Guess a number between 1 and 20: \"))\n",
    "        attempts += 1\n",
    "\n",
    "        if guess == secret_number:\n",
    "            print(\"Congratulations! You guessed it!\")\n",
    "            break\n",
    "        elif guess < secret_number:\n",
    "            print(\"Too low! Try again.\")\n",
    "        else:\n",
    "            print(\"Too high! Try again.\")\n",
    "\n",
    "        # Calculate penalty points based on the difference between the guess and the secret number\n",
    "        penalty_points = abs(secret_number - guess)\n",
    "        score -= penalty_points\n",
    "\n",
    "    if attempts == 5 and guess != secret_number:\n",
    "        print(\"Game Over. The correct number was\", secret_number)\n",
    "\n",
    "    print(\"Your final score is:\", score)\n",
    "\n",
    "# Example usage\n",
    "guessing_game()\n"
   ]
  },
  {
   "cell_type": "markdown",
   "id": "bd5f947e-b4ac-4c5f-9503-713bc271d204",
   "metadata": {},
   "source": [
    "### 3. Sum of Digits\n",
    "##### Write a Python program to calculate the sum of the digits of a given number:\n",
    "##### Input Example: 1234\n",
    "##### Output Example: \"The sum of digits is 10.\""
   ]
  },
  {
   "cell_type": "code",
   "execution_count": 61,
   "id": "6ca0af35-f3c5-4740-8552-d9487c34c892",
   "metadata": {},
   "outputs": [
    {
     "name": "stdout",
     "output_type": "stream",
     "text": [
      "The sum of the digits of 1234 is: 10\n"
     ]
    }
   ],
   "source": [
    "def sum_of_digits(number):\n",
    "    total = 0\n",
    "    while number > 0:\n",
    "        digit = number % 10\n",
    "        total += digit\n",
    "        number //= 10\n",
    "    return total\n",
    "\n",
    "# Example usage\n",
    "number = 1234\n",
    "result = sum_of_digits(number)\n",
    "print(f\"The sum of the digits of {number} is: {result}\")\n"
   ]
  },
  {
   "cell_type": "markdown",
   "id": "440fc140-acf6-4e15-ac99-53fe901b39fd",
   "metadata": {},
   "source": [
    "### 4. Prime Numbers in Range\n",
    "##### Write a program that finds and prints all prime numbers between 1 and 100.\n",
    "##### Hint: Use nested loops to check divisibility for each number."
   ]
  },
  {
   "cell_type": "code",
   "execution_count": 75,
   "id": "1a57df68-947b-4a22-8170-2ea2e07bbf24",
   "metadata": {},
   "outputs": [
    {
     "name": "stdout",
     "output_type": "stream",
     "text": [
      "Prime numbers between 1 and 100 are: [2, 3, 5, 7, 11, 13, 17, 19, 23, 29, 31, 37, 41, 43, 47, 53, 59, 61, 67, 71, 73, 79, 83, 89, 97]\n"
     ]
    }
   ],
   "source": [
    "def is_prime(num):\n",
    "    if num <= 1:\n",
    "        return False\n",
    "    for i in range(2, int(num**0.5) + 1):\n",
    "        if num % i == 0:\n",
    "            return False\n",
    "    return True\n",
    "\n",
    "def find_primes():\n",
    "    primes = []\n",
    "    for num in range(1, 101):\n",
    "        if is_prime(num):\n",
    "            primes.append(num)\n",
    "    return primes\n",
    "\n",
    "# Example usage\n",
    "prime_numbers = find_primes()\n",
    "print(\"Prime numbers between 1 and 100 are:\", prime_numbers)\n"
   ]
  },
  {
   "cell_type": "markdown",
   "id": "ecff0e75-c6a1-4039-8957-ea16be1803dc",
   "metadata": {},
   "source": [
    "### 5. Advanced Countdown Timer\n",
    "##### Modify the countdown timer program to include:\n",
    "##### A delay of 1 second between each number (use time.sleep(1)).\n",
    "##### A custom message at the end, like \"Time's up!\""
   ]
  },
  {
   "cell_type": "code",
   "execution_count": 76,
   "id": "1708bff5-79ee-4854-9347-58428a5e9b75",
   "metadata": {},
   "outputs": [
    {
     "name": "stdout",
     "output_type": "stream",
     "text": [
      "10\n",
      "9\n",
      "8\n",
      "7\n",
      "6\n",
      "5\n",
      "4\n",
      "3\n",
      "2\n",
      "1\n",
      "0\n",
      "Time's up!\n"
     ]
    }
   ],
   "source": [
    "import time\n",
    "\n",
    "def countdown_timer(seconds):\n",
    "    while seconds >= 0:\n",
    "        print(seconds)\n",
    "        time.sleep(1)\n",
    "        seconds -= 1\n",
    "    print(\"Time's up!\")\n",
    "\n",
    "# Example usage\n",
    "countdown_timer(10)\n"
   ]
  },
  {
   "cell_type": "code",
   "execution_count": null,
   "id": "d4d9a369-86d7-40b6-a82f-77f42fc98ca2",
   "metadata": {},
   "outputs": [],
   "source": []
  }
 ],
 "metadata": {
  "kernelspec": {
   "display_name": "Python 3 (ipykernel)",
   "language": "python",
   "name": "python3"
  },
  "language_info": {
   "codemirror_mode": {
    "name": "ipython",
    "version": 3
   },
   "file_extension": ".py",
   "mimetype": "text/x-python",
   "name": "python",
   "nbconvert_exporter": "python",
   "pygments_lexer": "ipython3",
   "version": "3.12.7"
  }
 },
 "nbformat": 4,
 "nbformat_minor": 5
}
