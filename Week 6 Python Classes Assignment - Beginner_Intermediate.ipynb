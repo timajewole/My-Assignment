{
 "cells": [
  {
   "cell_type": "markdown",
   "id": "cb9ebc6e-ac53-421a-9757-d5742e052b25",
   "metadata": {},
   "source": [
    "### Beginner Questions\n",
    "1. Define a class called Person with attributes name and age. Create an instance and print the details."
   ]
  },
  {
   "cell_type": "code",
   "execution_count": 1,
   "id": "1776493c-afe0-4281-aa30-4209bdd2c7b8",
   "metadata": {},
   "outputs": [
    {
     "name": "stdout",
     "output_type": "stream",
     "text": [
      "My name is Timothy and I'm 47 years old\n"
     ]
    }
   ],
   "source": [
    "class Person:\n",
    "    def __init__(self, name, age):\n",
    "        self.name = name\n",
    "        self.age = age\n",
    "\n",
    "    def display_info(self):\n",
    "        print(f\"My name is {self.name} and I'm {self.age} years old\")\n",
    "\n",
    "my_person = Person(\"Timothy\", 47)\n",
    "my_person.display_info()"
   ]
  },
  {
   "cell_type": "markdown",
   "id": "0058c9da-d127-40bd-92a2-ef040a2fbdbc",
   "metadata": {},
   "source": [
    "2. Create a class Rectangle with attributes length and width and a method to calculate area."
   ]
  },
  {
   "cell_type": "code",
   "execution_count": 16,
   "id": "326dbd06-0906-4256-b942-cf4a90196350",
   "metadata": {},
   "outputs": [
    {
     "name": "stdout",
     "output_type": "stream",
     "text": [
      "The area of the rectangle is: 35\n"
     ]
    }
   ],
   "source": [
    "class Rectangle:\n",
    "    def __init__(self, length, width):\n",
    "        self.length = length\n",
    "        self.width = width\n",
    "\n",
    "    def area_calculation(self):\n",
    "        return self.length * self.width\n",
    "\n",
    "rectangle = Rectangle(5, 7)\n",
    "area = rectangle.area_calculation()\n",
    "print(f\"The area of the rectangle is: {area}\")\n"
   ]
  },
  {
   "cell_type": "markdown",
   "id": "814e3fff-43f1-430c-9382-b28f84e9ecd7",
   "metadata": {},
   "source": [
    "3. Define a class Student with name and marks. Create multiple instances and display their details."
   ]
  },
  {
   "cell_type": "code",
   "execution_count": 17,
   "id": "f231883f-3e2b-4d5a-8b0e-07c885bd3880",
   "metadata": {},
   "outputs": [
    {
     "name": "stdout",
     "output_type": "stream",
     "text": [
      "The name of the student is Timothy\n",
      "The mark of Timothy is 80\n"
     ]
    }
   ],
   "source": [
    "class Student:\n",
    "    def __init__(self, name, marks):\n",
    "        self.name = name \n",
    "        self.marks = marks\n",
    "\n",
    "    def display_name(self):\n",
    "        print(f\"The name of the student is {self.name}\")\n",
    "    def display_marks(self):\n",
    "        print(f\"The mark of {self.name} is {self.marks}\")\n",
    "\n",
    "my_student = Student(\"Timothy\", 80)\n",
    "my_student.display_name()\n",
    "my_student.display_marks()\n",
    "        "
   ]
  },
  {
   "cell_type": "markdown",
   "id": "10a50953-4c47-46fa-aec1-dd22742f8979",
   "metadata": {},
   "source": [
    "4. Write a class Book with attributes title and author. Add a method to display details."
   ]
  },
  {
   "cell_type": "code",
   "execution_count": 31,
   "id": "bff27407-487e-4e14-abe1-ef354e74c886",
   "metadata": {},
   "outputs": [
    {
     "name": "stdout",
     "output_type": "stream",
     "text": [
      "The author of Things Fall Apart is Chinua Achebe\n",
      "The author of Senior Seconday Physics is P.N Okeke\n",
      "Total Books: 2\n"
     ]
    }
   ],
   "source": [
    "class Book:\n",
    "    \n",
    "    total_books = 0\n",
    "    \n",
    "    def __init__(self, title, author):\n",
    "        self.title = title\n",
    "        self.author = author\n",
    "        Book.total_books +=1\n",
    "\n",
    "    def author(self):\n",
    "        print(f\"The author of {self.title} is {self.author}\")\n",
    "    \n",
    "    @classmethod\n",
    "    def get_total_books(cls):\n",
    "        print(f\"Total Books: {cls.total_books}\")\n",
    "\n",
    "    \n",
    "book1 = Book(\"Things Fall Apart\", \"Chinua Achebe\")\n",
    "book2 = Book(\"Senior Seconday Physics\", \"P.N Okeke\")\n",
    "\n",
    "Book.author(book1)\n",
    "Book.author(book2)\n",
    "Book.get_total_books()   "
   ]
  },
  {
   "cell_type": "markdown",
   "id": "a3017b8e-236a-4f63-82c4-2eec124d3f22",
   "metadata": {},
   "source": [
    "5. Create a Laptop class with attributes brand, processor, and RAM. Write a method to print specifications."
   ]
  },
  {
   "cell_type": "code",
   "execution_count": 33,
   "id": "f542def4-3e0b-4513-be73-d1b0775126a8",
   "metadata": {},
   "outputs": [
    {
     "name": "stdout",
     "output_type": "stream",
     "text": [
      "The laptop brand and specfifications are HP, Intel 7.0, 16GB\n"
     ]
    }
   ],
   "source": [
    "class Laptop:\n",
    "    def __init__(self, brand, processor, ram):\n",
    "        self.brand = brand\n",
    "        self.processor = processor\n",
    "        self.ram = ram\n",
    "\n",
    "    def laptop_spec(self):\n",
    "        print(f\"The laptop brand and specfifications are {self.brand}, {self.processor}, {self.ram}\")\n",
    "\n",
    "laptop1 = Laptop(\"HP\", \"Intel 7.0\", \"16GB\")\n",
    "laptop1.laptop_spec()"
   ]
  },
  {
   "cell_type": "markdown",
   "id": "1b00c086-9457-435b-9ae3-270f595c8e7e",
   "metadata": {},
   "source": [
    "### Intermediate Questions\n",
    "1. Create a BankAccount class with deposit and withdrawal methods and a private balance attribute."
   ]
  },
  {
   "cell_type": "code",
   "execution_count": 44,
   "id": "3e7b81e2-0cb8-42b0-8db0-3f70979b1fb8",
   "metadata": {},
   "outputs": [
    {
     "name": "stdout",
     "output_type": "stream",
     "text": [
      "Deposited: N1000\n",
      "Withdrawn: N200\n",
      "Current balance: N800\n",
      "Withdrawn: N200\n",
      "Current balance: N600\n"
     ]
    }
   ],
   "source": [
    "class BankAccount:\n",
    "    def __init__(self):\n",
    "        self.__balance = 0  # Private attribute\n",
    "\n",
    "    def deposit(self, amount):\n",
    "        if amount > 0:\n",
    "            self.__balance += amount\n",
    "            print(f\"Deposited: N{amount}\")\n",
    "        else:\n",
    "            print(\"Deposit amount must be positive.\")\n",
    "\n",
    "    def withdraw(self, amount):\n",
    "        if amount > 0:\n",
    "            if self.__balance >= amount:\n",
    "                self.__balance -= amount\n",
    "                print(f\"Withdrawn: N{amount}\")\n",
    "            else:\n",
    "                print(\"Insufficient balance.\")\n",
    "        else:\n",
    "            print(\"Withdrawal amount must be positive.\")\n",
    "\n",
    "    def get_balance(self):\n",
    "        return self.__balance\n",
    "\n",
    "# Example usage\n",
    "account = BankAccount()\n",
    "account.deposit(1000)\n",
    "account.withdraw(200)\n",
    "print(f\"Current balance: N{account.get_balance()}\")\n",
    "account.withdraw(200)\n",
    "print(f\"Current balance: N{account.get_balance()}\")"
   ]
  },
  {
   "cell_type": "markdown",
   "id": "c1961d93-8737-4eb3-b9bd-4d6717136ded",
   "metadata": {},
   "source": [
    "2. Write a Shape class with a method area(). Derive Circle and Rectangle classes and override the method."
   ]
  },
  {
   "cell_type": "code",
   "execution_count": 53,
   "id": "3d1a0211-f308-4e6d-9d12-5b9d62a24400",
   "metadata": {},
   "outputs": [
    {
     "name": "stdout",
     "output_type": "stream",
     "text": [
      "The area of the circle is: 28.274333882308138\n",
      "The area of the rectangle is: 30\n"
     ]
    }
   ],
   "source": [
    "import math\n",
    "\n",
    "class Shape:\n",
    "    def area(self):\n",
    "        pass\n",
    "\n",
    "class Circle(Shape):\n",
    "    def __init__(self, radius):\n",
    "        self.radius = radius\n",
    "\n",
    "    def area(self):\n",
    "        return math.pi * (self.radius ** 2)\n",
    "\n",
    "class Rectangle(Shape):\n",
    "    def __init__(self, length, width):\n",
    "        self.length = length\n",
    "        self.width = width\n",
    "\n",
    "    def area(self):\n",
    "        return self.length * self.width\n",
    "\n",
    "# Example usage\n",
    "circle = Circle(3)\n",
    "rectangle = Rectangle(5, 6)\n",
    "\n",
    "print(f\"The area of the circle is: {circle.area()}\")\n",
    "print(f\"The area of the rectangle is: {rectangle.area()}\")\n"
   ]
  },
  {
   "cell_type": "markdown",
   "id": "0a1cf233-6427-4664-86f1-a2d5f20ca50b",
   "metadata": {},
   "source": [
    "3. Define a Vehicle class. Inherit Car and Bike from it and add specific attributes to each."
   ]
  },
  {
   "cell_type": "code",
   "execution_count": 54,
   "id": "b95c6837-a42f-47de-90c3-cab87208e63a",
   "metadata": {},
   "outputs": [
    {
     "name": "stdout",
     "output_type": "stream",
     "text": [
      "2024 Toyota Corolla, 4 doors\n",
      "2022 Yamaha MT-07, sport bike\n"
     ]
    }
   ],
   "source": [
    "class Vehicle:\n",
    "    def __init__(self, make, model, year):\n",
    "        self.make = make\n",
    "        self.model = model\n",
    "        self.year = year\n",
    "\n",
    "    def get_info(self):\n",
    "        return f\"{self.year} {self.make} {self.model}\"\n",
    "\n",
    "class Car(Vehicle):\n",
    "    def __init__(self, make, model, year, number_of_doors):\n",
    "        super().__init__(make, model, year)\n",
    "        self.number_of_doors = number_of_doors\n",
    "\n",
    "    def get_info(self):\n",
    "        return f\"{super().get_info()}, {self.number_of_doors} doors\"\n",
    "\n",
    "class Bike(Vehicle):\n",
    "    def __init__(self, make, model, year, type_of_bike):\n",
    "        super().__init__(make, model, year)\n",
    "        self.type_of_bike = type_of_bike\n",
    "\n",
    "    def get_info(self):\n",
    "        return f\"{super().get_info()}, {self.type_of_bike} bike\"\n",
    "\n",
    "# Example usage\n",
    "car = Car(\"Toyota\", \"Corolla\", 2024, 4)\n",
    "bike = Bike(\"Yamaha\", \"MT-07\", 2022, \"sport\")\n",
    "\n",
    "print(car.get_info())\n",
    "print(bike.get_info())"
   ]
  },
  {
   "cell_type": "markdown",
   "id": "cf1798c0-5d41-41ec-8d4b-620721d7606f",
   "metadata": {},
   "source": [
    "4. Implement a ShoppingCart class with methods to add and remove items."
   ]
  },
  {
   "cell_type": "code",
   "execution_count": 46,
   "id": "a50aabb2-0ed9-40f9-b74e-83051ed5a200",
   "metadata": {},
   "outputs": [
    {
     "name": "stdout",
     "output_type": "stream",
     "text": [
      "Added Apple to the shopping cart.\n",
      "Added Banana to the shopping cart.\n",
      "Shopping cart contains:\n",
      "- Apple\n",
      "- Banana\n",
      "Removed Banana from the shopping cart.\n",
      "Shopping cart contains:\n",
      "- Apple\n",
      "Orange not found in the shopping cart.\n",
      "Shopping cart contains:\n",
      "- Apple\n"
     ]
    }
   ],
   "source": [
    "class ShoppingCart:\n",
    "    def __init__(self):\n",
    "        self.items = []\n",
    "\n",
    "    def add_item(self, item):\n",
    "        self.items.append(item)\n",
    "        print(f\"Added {item} to the shopping cart.\")\n",
    "\n",
    "    def remove_item(self, item):\n",
    "        if item in self.items:\n",
    "            self.items.remove(item)\n",
    "            print(f\"Removed {item} from the shopping cart.\")\n",
    "        else:\n",
    "            print(f\"{item} not found in the shopping cart.\")\n",
    "\n",
    "    def show_cart(self):\n",
    "        if self.items:\n",
    "            print(\"Shopping cart contains:\")\n",
    "            for item in self.items:\n",
    "                print(f\"- {item}\")\n",
    "        else:\n",
    "            print(\"Shopping cart is empty.\")\n",
    "\n",
    "# Example usage\n",
    "cart = ShoppingCart()\n",
    "cart.add_item(\"Apple\")\n",
    "cart.add_item(\"Banana\")\n",
    "cart.show_cart()\n",
    "cart.remove_item(\"Banana\")\n",
    "cart.show_cart()\n",
    "cart.remove_item(\"Orange\")\n",
    "cart.show_cart()"
   ]
  },
  {
   "cell_type": "markdown",
   "id": "fc4ce0cb-7385-4c3f-821d-765df40239fb",
   "metadata": {},
   "source": [
    "5. Create a class Employee with methods for salary calculations based on experience level."
   ]
  },
  {
   "cell_type": "code",
   "execution_count": 56,
   "id": "e4c1df21-40b1-4a99-bccc-4dac57a7a0b0",
   "metadata": {},
   "outputs": [
    {
     "name": "stdout",
     "output_type": "stream",
     "text": [
      "Employee: Sam, Experience Level: entry, Salary: 30000\n",
      "Employee: Wang, Experience Level: mid, Salary: 45000.0\n",
      "Employee: Tim, Experience Level: senior, Salary: 60000\n",
      "Employee: Ify, Experience Level: Not Known, Salary: Invalid experience level\n"
     ]
    }
   ],
   "source": [
    "class Employee:\n",
    "    def __init__(self, name, experience_level):\n",
    "        self.name = name\n",
    "        self.experience_level = experience_level\n",
    "\n",
    "    def calculate_salary(self):\n",
    "        base_salary = 30000  # Base salary for entry-level employees\n",
    "        if self.experience_level == 'entry':\n",
    "            return base_salary\n",
    "        elif self.experience_level == 'mid':\n",
    "            return base_salary * 1.5\n",
    "        elif self.experience_level == 'senior':\n",
    "            return base_salary * 2\n",
    "        else:\n",
    "            return \"Invalid experience level\"\n",
    "\n",
    "    def get_info(self):\n",
    "        return f\"Employee: {self.name}, Experience Level: {self.experience_level}, Salary: {self.calculate_salary()}\"\n",
    "\n",
    "# Example usage\n",
    "employee1 = Employee(\"Sam\", \"entry\")\n",
    "employee2 = Employee(\"Wang\", \"mid\")\n",
    "employee3 = Employee(\"Tim\", \"senior\")\n",
    "employee4 = Employee(\"Ify\", \"Not Known\")\n",
    "\n",
    "print(employee1.get_info())\n",
    "print(employee2.get_info())\n",
    "print(employee3.get_info())\n",
    "print(employee4.get_info())"
   ]
  },
  {
   "cell_type": "code",
   "execution_count": null,
   "id": "b6f661e8-2372-4b03-83fa-a0f6cee11841",
   "metadata": {},
   "outputs": [],
   "source": []
  }
 ],
 "metadata": {
  "kernelspec": {
   "display_name": "Python 3 (ipykernel)",
   "language": "python",
   "name": "python3"
  },
  "language_info": {
   "codemirror_mode": {
    "name": "ipython",
    "version": 3
   },
   "file_extension": ".py",
   "mimetype": "text/x-python",
   "name": "python",
   "nbconvert_exporter": "python",
   "pygments_lexer": "ipython3",
   "version": "3.12.7"
  }
 },
 "nbformat": 4,
 "nbformat_minor": 5
}
