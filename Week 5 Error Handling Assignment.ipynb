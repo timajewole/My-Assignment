{
 "cells": [
  {
   "cell_type": "markdown",
   "id": "ebf9fd60-74c3-47b9-ac9c-973041794389",
   "metadata": {},
   "source": [
    "### Beginner\n",
    "**1. Write a function divide_numbers(a, b) that returns the result of a / b. Handle the\n",
    "case where b is zero by returning \"Cannot divide by zero\".**"
   ]
  },
  {
   "cell_type": "code",
   "execution_count": 17,
   "id": "c8296e73-3eeb-490e-855a-9040ddd7c13b",
   "metadata": {},
   "outputs": [
    {
     "name": "stdout",
     "output_type": "stream",
     "text": [
      "The result of 10 / 0 is: Cannot divide by zero\n"
     ]
    }
   ],
   "source": [
    "def divide_numbers(a, b):\n",
    "    try:\n",
    "        return a / b\n",
    "    except ZeroDivisionError:\n",
    "        return \"Cannot divide by zero\"\n",
    "\n",
    "result = divide_numbers(10, 0)\n",
    "print(f\"The result of 10 / 0 is: {result}\")\n",
    "\n",
    "# OR\n",
    "\n",
    "def divide_numbers(a, b):\n",
    "    if b == 0:\n",
    "        return \"Cannot divide by zero\"\n",
    "    else:\n",
    "        return a / b\n",
    "\n",
    "# Example usage\n",
    "result1 = divide_numbers(10, 2)\n",
    "print(f\"The result of 10 / 2 is: {result1}\")\n",
    "\n",
    "result2 = divide_numbers(10, 0)\n",
    "print(f\"The result of 10 / 0 is: {result2}\")"
   ]
  },
  {
   "cell_type": "markdown",
   "id": "6fb4221c-92cf-4ac6-b647-d8e4fd09143c",
   "metadata": {},
   "source": [
    "**2. Write a program that reads an integer input from the user. Use a try-except block\n",
    "to handle Value Error if the user enters invalid data (e.g., a string like \"abc\").**"
   ]
  },
  {
   "cell_type": "code",
   "execution_count": 12,
   "id": "1205c54c-e479-4fe7-945a-1f9dfcf8bab9",
   "metadata": {},
   "outputs": [
    {
     "name": "stdin",
     "output_type": "stream",
     "text": [
      "Enter a number:  abc\n"
     ]
    },
    {
     "name": "stdout",
     "output_type": "stream",
     "text": [
      "Invalid data\n"
     ]
    }
   ],
   "source": [
    "try:\n",
    "    num = int(input(\"Enter a number: \"))\n",
    "    result = 50 / num\n",
    "except ZeroDivisionError:\n",
    "    print(\"You can't divide by zero\")\n",
    "except ValueError:\n",
    "    print(\"Invalid data\")\n",
    "else:\n",
    "    print(\"The result is: \", result)    \n",
    "    "
   ]
  },
  {
   "cell_type": "markdown",
   "id": "0da33fc6-0b21-441c-82d0-97da1e9994f7",
   "metadata": {},
   "source": [
    "**3. Write a small program that prompts the user for their age (as an integer) and uses\n",
    "a try-except block to handle ValueError in case the user inputs a non-integer (e.g.,\n",
    "\"twenty\").**"
   ]
  },
  {
   "cell_type": "code",
   "execution_count": 1,
   "id": "496e4302-c9af-425c-94b0-14c4568f7504",
   "metadata": {},
   "outputs": [
    {
     "name": "stdin",
     "output_type": "stream",
     "text": [
      "Enter your age:  abc\n"
     ]
    },
    {
     "name": "stdout",
     "output_type": "stream",
     "text": [
      "Error! Input is non-integer\n"
     ]
    }
   ],
   "source": [
    "try:\n",
    "    age = int(input(\"Enter your age: \"))\n",
    "    if age <= 0:\n",
    "        print(\"Age cannot be zero or less\")\n",
    "except ValueError:\n",
    "    print(\"Error! Input is non-integer\")\n",
    "    "
   ]
  },
  {
   "cell_type": "markdown",
   "id": "a733a7d3-ee6e-4e82-9b26-516dcbf0112f",
   "metadata": {},
   "source": [
    "**4. Create a function convert_to_int_list(str_list) that takes a list of strings (e.g., [\"1\",\n",
    "\"2\", \"abc\", \"4\"]) and returns a new list of integers. Use a try-except block inside a\n",
    "loop to handle any ValueError when a string can’t be converted, and print an\n",
    "error message without stopping the entire process.**"
   ]
  },
  {
   "cell_type": "code",
   "execution_count": 38,
   "id": "1deba784-e043-4ec3-ba14-9b9493ba7083",
   "metadata": {},
   "outputs": [
    {
     "name": "stdout",
     "output_type": "stream",
     "text": [
      "Error! Cannot convert E to integer\n",
      "[1, 2, 4, 5, 6]\n"
     ]
    }
   ],
   "source": [
    "def convert_to_int_list(str_list):\n",
    "    new_list = [] \n",
    "    for i in str_list: \n",
    "        try:\n",
    "            new_list.append(int(i)) \n",
    "        except ValueError:\n",
    "            print(f\"Error! Cannot convert {i} to integer\")\n",
    "    return new_list\n",
    "result = convert_to_int_list( [\"1\", \"2\", \"E\", \"4\", \"5\", \"6\"])\n",
    "print(result)"
   ]
  },
  {
   "cell_type": "markdown",
   "id": "2b829096-5d14-4611-a757-fdf990312c8e",
   "metadata": {},
   "source": [
    "**5. Create a function access_list_item(my_list, index) that attempts to return the\n",
    "element at index. Handle IndexError by printing a message like \"Index out of\n",
    "range\" if the requested index is invalid.**"
   ]
  },
  {
   "cell_type": "code",
   "execution_count": 44,
   "id": "b23a634f-6652-404e-8126-1e6395e8191f",
   "metadata": {},
   "outputs": [
    {
     "name": "stdout",
     "output_type": "stream",
     "text": [
      "Index out of range\n"
     ]
    }
   ],
   "source": [
    "def access_list_item(my_list, index):\n",
    "    \n",
    "    try:\n",
    "        return my_list[index]\n",
    "    except IndexError:\n",
    "        return \"Index out of range\"\n",
    "\n",
    "my_list = [\"apple\", \"banana\", \"pineapple\"]\n",
    "result = access_list_item(my_list, 4)\n",
    "print(result)"
   ]
  },
  {
   "cell_type": "markdown",
   "id": "5e60b38e-d6a3-4292-8a34-6d611ec7af19",
   "metadata": {},
   "source": [
    "### Intermediate\n",
    "**6. Write a function get_key_value(dictionary, key) that returns the value of a given\n",
    "key from a dictionary. Use KeyError handling to print a friendly message if the\n",
    "key does not exist.**"
   ]
  },
  {
   "cell_type": "code",
   "execution_count": 46,
   "id": "59c75a0f-66c5-4c27-8d88-a8aa4841d3c5",
   "metadata": {},
   "outputs": [
    {
     "name": "stdout",
     "output_type": "stream",
     "text": [
      "Sorry! Invalid key\n"
     ]
    }
   ],
   "source": [
    "def get_key_value(dictionary, key):\n",
    "    try:\n",
    "        return dictionary[key]\n",
    "    except KeyError:\n",
    "        return \"Sorry! Invalid key\"\n",
    "\n",
    "dictionary = {\"name\": \"Timothy\", \"age\": 50, \"gender\": \"male\"}\n",
    "result = get_key_value(dictionary, \"country\")\n",
    "print(result)"
   ]
  },
  {
   "cell_type": "markdown",
   "id": "80d6a9f0-d960-4597-a1f1-b7282c6c48d8",
   "metadata": {},
   "source": [
    "**7. Create a function calculate_bmi(weight, height) that raises a custom exceptionInvalidHeightError if height is 0 or negative.**"
   ]
  },
  {
   "cell_type": "code",
   "execution_count": 90,
   "id": "e71f91e9-61f7-4763-8e93-4c37b72ea038",
   "metadata": {},
   "outputs": [
    {
     "name": "stdout",
     "output_type": "stream",
     "text": [
      "The BMI is: 22.857142857142858\n",
      "Height cannot be zero or negative\n"
     ]
    }
   ],
   "source": [
    "class InvalidHeightError(Exception):\n",
    "    pass\n",
    "\n",
    "def calculate_bmi(weight, height):\n",
    "    if height <= 0:\n",
    "        raise InvalidHeightError(\"Height cannot be zero or negative\")\n",
    "    bmi = weight / (height ** 2)\n",
    "    return bmi\n",
    "\n",
    "try:\n",
    "    weight = 70  # kg\n",
    "    height = 1.75  # meters\n",
    "    result = calculate_bmi(weight, height)\n",
    "    print(f\"The BMI is: {result}\")\n",
    "except InvalidHeightError as e:\n",
    "    print(e)\n",
    "\n",
    "# Test with an invalid height\n",
    "try:\n",
    "    weight = 70  # kg\n",
    "    height = 0  # meters\n",
    "    result = calculate_bmi(weight, height)\n",
    "    print(f\"The BMI is: {result}\")\n",
    "except InvalidHeightError as e:\n",
    "    print(e)"
   ]
  },
  {
   "cell_type": "markdown",
   "id": "10d1fa6a-fff8-48fa-96c3-9b5e5b6e85eb",
   "metadata": {},
   "source": [
    "**8. Use the raise keyword to force a TypeError if a function add_numbers(a, b) is\n",
    "called with non-integer arguments.**"
   ]
  },
  {
   "cell_type": "code",
   "execution_count": 91,
   "id": "d9e9914f-f70a-4ea6-a505-97c3f4110772",
   "metadata": {},
   "outputs": [
    {
     "name": "stdout",
     "output_type": "stream",
     "text": [
      "The result of 10 + 5 is: 15\n",
      "Error! Enter a valid number\n"
     ]
    }
   ],
   "source": [
    "def add_numbers(a, b):\n",
    "    if not isinstance(a, int) or not isinstance(b, int):\n",
    "        raise TypeError(\"Error! Enter a valid number\")\n",
    "    return a + b\n",
    "\n",
    "# Example usage\n",
    "try:\n",
    "    result = add_numbers(10, 5)\n",
    "    print(f\"The result of 10 + 5 is: {result}\")\n",
    "    \n",
    "    result = add_numbers(10, \"5\")\n",
    "    print(f\"The result of 5 + '3' is: {result}\")\n",
    "except TypeError as e:\n",
    "    print(e)"
   ]
  },
  {
   "cell_type": "markdown",
   "id": "a10b0d98-682a-4176-a36b-9a82d3d36ceb",
   "metadata": {},
   "source": [
    "**9. Create a function safe_division(a, b) that returns the result of a / b. Handle\n",
    "ZeroDivisionError with a custom message. Use the else clause to print \"Division successful!\" when no exception occurs. Return the result only if successful; otherwise, return None.**"
   ]
  },
  {
   "cell_type": "code",
   "execution_count": 92,
   "id": "ac8ca2a3-2812-405f-9d11-7ca6891274f1",
   "metadata": {},
   "outputs": [
    {
     "name": "stdout",
     "output_type": "stream",
     "text": [
      "Division successful!\n",
      "Result: 2.0\n",
      "Error: Cannot divide by zero\n",
      "Result: None\n"
     ]
    }
   ],
   "source": [
    "def safe_division(a, b):\n",
    "    try:\n",
    "        result = a / b\n",
    "    except ZeroDivisionError:\n",
    "        print(\"Error: Cannot divide by zero\")\n",
    "        return None\n",
    "    else:\n",
    "        print(\"Division successful!\")\n",
    "        return result\n",
    "\n",
    "\n",
    "result = safe_division(10, 5)\n",
    "print(f\"Result: {result}\")\n",
    "\n",
    "result = safe_division(10, 0)\n",
    "print(f\"Result: {result}\")\n",
    "\n",
    "    "
   ]
  },
  {
   "cell_type": "code",
   "execution_count": null,
   "id": "5e123740-bb74-4eff-a48b-bdd311b95d52",
   "metadata": {},
   "outputs": [],
   "source": []
  }
 ],
 "metadata": {
  "kernelspec": {
   "display_name": "Python 3 (ipykernel)",
   "language": "python",
   "name": "python3"
  },
  "language_info": {
   "codemirror_mode": {
    "name": "ipython",
    "version": 3
   },
   "file_extension": ".py",
   "mimetype": "text/x-python",
   "name": "python",
   "nbconvert_exporter": "python",
   "pygments_lexer": "ipython3",
   "version": "3.12.7"
  }
 },
 "nbformat": 4,
 "nbformat_minor": 5
}
