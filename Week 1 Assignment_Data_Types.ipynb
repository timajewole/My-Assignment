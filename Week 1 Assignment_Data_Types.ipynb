{
 "cells": [
  {
   "cell_type": "markdown",
   "id": "1a7f0b6b-9218-4607-b6a5-ae29d17f600f",
   "metadata": {},
   "source": [
    "### Week 1 Assignment"
   ]
  },
  {
   "cell_type": "markdown",
   "id": "476943e9-8dc8-4880-827b-d58f91f821f6",
   "metadata": {},
   "source": [
    "##### Write a program to count how many numbers between 1 and 1000 are divisible by both 7 and 11."
   ]
  },
  {
   "cell_type": "code",
   "execution_count": 8,
   "id": "e7dda6bb-e18f-449a-8c8f-9085a6be0ec3",
   "metadata": {},
   "outputs": [
    {
     "data": {
      "text/plain": [
       "12"
      ]
     },
     "execution_count": 8,
     "metadata": {},
     "output_type": "execute_result"
    }
   ],
   "source": [
    "def count_div_by_7_and_11():\n",
    "    count = 0\n",
    "    for number in range(1, 1001):\n",
    "        if number % 7 == 0 and number % 11 == 0:\n",
    "            count +=1\n",
    "    return count\n",
    "count_div_by_7_and_11()"
   ]
  },
  {
   "cell_type": "markdown",
   "id": "23d9ff4a-c455-4df0-95e0-cd922d512892",
   "metadata": {},
   "source": [
    "##### Write a program to check if a given number is an Armstrong number (e.g., 153 is an Armstrong number because 1**3+5**3+3**3=153)."
   ]
  },
  {
   "cell_type": "code",
   "execution_count": 9,
   "id": "5f989602-2e16-4557-91df-25d4c27e8032",
   "metadata": {},
   "outputs": [
    {
     "name": "stdout",
     "output_type": "stream",
     "text": [
      "Enter a number:  153\n"
     ]
    },
    {
     "name": "stdout",
     "output_type": "stream",
     "text": [
      "153 is an Armstrong number.\n"
     ]
    }
   ],
   "source": [
    "def armstrong_num(number):\n",
    "    digits = str(number)\n",
    "    num_digits = len(digits)\n",
    "    sum_of_power = 0\n",
    "    for digit in digits:\n",
    "        sum_of_power += int(digit) ** num_digits\n",
    "    return sum_of_power == number\n",
    "\n",
    "number =int(input(\"Enter a number: \"))\n",
    "if armstrong_num(number):\n",
    "    print(f\"{number} is an Armstrong number.\")\n",
    "else:\n",
    "    print(f\"{number} is not an Armstrong number.\")"
   ]
  },
  {
   "cell_type": "markdown",
   "id": "d4e3d760-1e6a-47a5-ae1a-f2ae20bbb581",
   "metadata": {},
   "source": [
    "##### Write a program to merge two dictionaries. If a key exists in both, sum their values.\n",
    "##### Example: {1: 10, 2: 20} and {2: 30, 3: 40}\n",
    "##### Output: {1: 10, 2: 50, 3: 40}"
   ]
  },
  {
   "cell_type": "code",
   "execution_count": 10,
   "id": "c75f3df5-5fb9-4f3f-9873-9572fff6c5ab",
   "metadata": {},
   "outputs": [
    {
     "data": {
      "text/plain": [
       "{1: 2, 3: 4, 5: 6, 7: 8, 9: 10, 11: 12}"
      ]
     },
     "execution_count": 10,
     "metadata": {},
     "output_type": "execute_result"
    }
   ],
   "source": [
    "def merged_dictionaries(dict1, dict2):\n",
    "    merged_dict = dict1.copy()\n",
    "    for key, value in dict2.items():\n",
    "        if key in merged_dict:\n",
    "            merged_dict[key] += value\n",
    "        else:\n",
    "            merged_dict[key] = value\n",
    "    return merged_dict\n",
    "\n",
    "dict1 = {1: 2, 3: 4, 5: 6}\n",
    "dict2 = {7: 8, 9:10, 11: 12}\n",
    "\n",
    "merged_dictionaries(dict1, dict2)"
   ]
  },
  {
   "cell_type": "markdown",
   "id": "e71579a3-e37d-4756-9171-219158268b65",
   "metadata": {},
   "source": [
    "##### Create a dictionary where the keys are numbers from 1 to 5, and the values are the squares of the keys"
   ]
  },
  {
   "cell_type": "code",
   "execution_count": 17,
   "id": "beab10ae-4229-4304-8f55-49f098d1d8b9",
   "metadata": {},
   "outputs": [
    {
     "data": {
      "text/plain": [
       "{1: 1, 2: 4, 3: 9, 4: 16, 5: 25}"
      ]
     },
     "execution_count": 17,
     "metadata": {},
     "output_type": "execute_result"
    }
   ],
   "source": [
    "def key_squares():\n",
    "    squares_dict = {key: key**2 for key in range(1, 6)}\n",
    "    return squares_dict\n",
    "\n",
    "key_squares()"
   ]
  },
  {
   "cell_type": "markdown",
   "id": "4b8f4d85-9846-42d4-801e-d986638d27d9",
   "metadata": {},
   "source": [
    "##### Create a program that takes two sets of strings and determines if the sets are\n",
    "#####\n",
    " disjoint (i.e., have no common elements)."
   ]
  },
  {
   "cell_type": "code",
   "execution_count": 19,
   "id": "eb0e8667-9dca-4230-9e6d-5265696a8642",
   "metadata": {},
   "outputs": [
    {
     "name": "stdout",
     "output_type": "stream",
     "text": [
      "The sets are disjoint.\n"
     ]
    }
   ],
   "source": [
    "def are_disjoint(set1, set2):\n",
    "    return set1.isdisjoint(set2)\n",
    "\n",
    "set1 = {\"grape\", \"cherry\", \"apple\"}\n",
    "set2 = {\"watermelon\", \"banana\", \"orange\"}\n",
    "\n",
    "if are_disjoint(set1, set2):\n",
    "    print(\"The sets are disjoint.\")\n",
    "else:\n",
    "    print(\"The sets are not disjoint.\")"
   ]
  },
  {
   "cell_type": "markdown",
   "id": "c819707b-488f-4bc7-bbfd-127f974bbbb1",
   "metadata": {},
   "source": [
    "##### Write a program to find all the vowels present in the sentence \"Python programming is fun\" using a set."
   ]
  },
  {
   "cell_type": "code",
   "execution_count": 22,
   "id": "d1c5a877-876d-4556-8aef-eb6e91e03de6",
   "metadata": {},
   "outputs": [
    {
     "name": "stdout",
     "output_type": "stream",
     "text": [
      "Vowels present in the sentence: {'i', 'u', 'a', 'o'}\n"
     ]
    }
   ],
   "source": [
    "def find_vowels(sentence):\n",
    "    vowels = {'a', 'e', 'i', 'o', 'u'}\n",
    "    found_vowels = set()\n",
    "    for char in sentence.lower():\n",
    "       if char in vowels:\n",
    "           found_vowels.add(char)\n",
    "    return found_vowels\n",
    "    \n",
    "sentence = \"Python programming is fun\"\n",
    "vowels_in_sentence = find_vowels(sentence)\n",
    "print(f\"Vowels present in the sentence: {vowels_in_sentence}\")"
   ]
  },
  {
   "cell_type": "markdown",
   "id": "7ed2b85b-a68f-470a-a15b-146ac0300e0a",
   "metadata": {},
   "source": [
    "##### Write a program to check if a list is sorted in either ascending or descending order and return True if sorted."
   ]
  },
  {
   "cell_type": "code",
   "execution_count": 25,
   "id": "b36bb0f6-7e86-4b9c-b99d-4d63b5dbae19",
   "metadata": {},
   "outputs": [
    {
     "name": "stdout",
     "output_type": "stream",
     "text": [
      "True\n",
      "True\n",
      "False\n"
     ]
    }
   ],
   "source": [
    "def is_sorted(lst):\n",
    "    ascending = all(lst[i] <= lst[i+1] for i in range(len(lst)-1))\n",
    "    descending = all(lst[i] >= lst[i+1] for i in range(len(lst)-1))\n",
    "    return ascending or descending\n",
    "    \n",
    "list1 = [1, 2, 3, 4, 5, 6, 7, 8, 9]\n",
    "list2 = [9, 8, 7, 6, 5, 4, 3, 2, 1]\n",
    "list3 = [2, 1, 3, 6, 5, 4, 7, 9, 8]\n",
    "\n",
    "print(is_sorted(list1))\n",
    "print(is_sorted(list2))\n",
    "print(is_sorted(list3))"
   ]
  },
  {
   "cell_type": "markdown",
   "id": "f52fe413-4c86-4cf8-b2fc-42519619845c",
   "metadata": {},
   "source": [
    "##### Write a program that takes two strings and checks if one string is a subsequence of the other.\n",
    "##### Example: \"abc\" is a subsequence of \"aabbcc\"."
   ]
  },
  {
   "cell_type": "code",
   "execution_count": 26,
   "id": "7b2a834e-055c-4c81-bd0c-27f0b4f2f6b1",
   "metadata": {},
   "outputs": [
    {
     "name": "stdout",
     "output_type": "stream",
     "text": [
      "\"abc\" is a subsequence of \"ahbgdc\".\n"
     ]
    }
   ],
   "source": [
    "def is_subsequence(s1, s2):\n",
    "    # Initialize pointers for both strings\n",
    "    i, j = 0, 0\n",
    "\n",
    "    # Traverse both strings\n",
    "    while i < len(s1) and j < len(s2):\n",
    "        # If characters match, move both pointers\n",
    "        if s1[i] == s2[j]:\n",
    "            i += 1\n",
    "        # Move pointer of the second string\n",
    "        j += 1\n",
    "\n",
    "    # If all characters of s1 were found in s2 in order\n",
    "    return i == len(s1)\n",
    "\n",
    "# Example usage\n",
    "s1 = \"abc\"\n",
    "s2 = \"ahbgdc\"\n",
    "\n",
    "if is_subsequence(s1, s2):\n",
    "    print(f'\"{s1}\" is a subsequence of \"{s2}\".')\n",
    "else:\n",
    "    print(f'\"{s1}\" is not a subsequence of \"{s2}\".')\n"
   ]
  },
  {
   "cell_type": "markdown",
   "id": "ec06152d-1db0-44e4-8768-df05d0bbd8e3",
   "metadata": {},
   "source": [
    "##### Create a program that removes the second occurrence of a value from a list.\n",
    "##### Example: Input: [1, 2, 3, 2, 4], Value: 2\n",
    "##### Output: [1, 2, 3, 4]"
   ]
  },
  {
   "cell_type": "code",
   "execution_count": 27,
   "id": "70d71427-28b2-46ad-a0c2-57bde139a316",
   "metadata": {},
   "outputs": [
    {
     "name": "stdout",
     "output_type": "stream",
     "text": [
      "[1, 2, 3, 4, 2, 5]\n"
     ]
    }
   ],
   "source": [
    "def remove_second_occurrence(lst, value):\n",
    "    # Initialize a counter for occurrences\n",
    "    count = 0\n",
    "\n",
    "    # Iterate through the list\n",
    "    for i in range(len(lst)):\n",
    "        # If the value is found, increment the counter\n",
    "        if lst[i] == value:\n",
    "            count += 1\n",
    "            # If it's the second occurrence, remove it and break\n",
    "            if count == 2:\n",
    "                lst.pop(i)\n",
    "                break\n",
    "\n",
    "    return lst\n",
    "\n",
    "# Example usage\n",
    "lst = [1, 2, 3, 2, 4, 2, 5]\n",
    "value = 2\n",
    "\n",
    "new_lst = remove_second_occurrence(lst, value)\n",
    "print(new_lst)"
   ]
  }
 ],
 "metadata": {
  "kernelspec": {
   "display_name": "Python 3 (ipykernel)",
   "language": "python",
   "name": "python3"
  },
  "language_info": {
   "codemirror_mode": {
    "name": "ipython",
    "version": 3
   },
   "file_extension": ".py",
   "mimetype": "text/x-python",
   "name": "python",
   "nbconvert_exporter": "python",
   "pygments_lexer": "ipython3",
   "version": "3.12.7"
  }
 },
 "nbformat": 4,
 "nbformat_minor": 5
}
