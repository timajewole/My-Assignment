{
 "cells": [
  {
   "cell_type": "markdown",
   "id": "4df85e99-0a80-4d1f-a65c-cbe399b48b42",
   "metadata": {},
   "source": [
    "## Programming Questions (Beginner to Advanced)\n",
    "### Beginner Level\n",
    "#### 1. The Greeting Machine:\n",
    "##### Write a function greet(name) that takes a person's name as input and prints a\n",
    "##### personalized greeting:\n",
    "##### \"Hello, <name>! Welcome to the world of Python!\".\n",
    "##### Test the function by calling it with your name."
   ]
  },
  {
   "cell_type": "code",
   "execution_count": 6,
   "id": "db82a38a-2bf1-4daf-84c7-2cc1f6085788",
   "metadata": {},
   "outputs": [
    {
     "name": "stdout",
     "output_type": "stream",
     "text": [
      "Hello, Timothy! Welcome to the world of Python!\n"
     ]
    }
   ],
   "source": [
    "def greet(name):\n",
    "    print(f\"Hello, {name}! Welcome to the world of Python!\")\n",
    "\n",
    "greet(\"Timothy\")\n"
   ]
  },
  {
   "cell_type": "markdown",
   "id": "ead99924-1edf-4548-9884-fd072fe57ed2",
   "metadata": {},
   "source": [
    "### 2. The Recipe Helper:\n",
    "##### Create a function make_pancake(flour, eggs, milk) that takes in the amount of flour,\n",
    "##### eggs, and milk, and returns the total number of pancakes you can make (based on the\n",
    "##### formula: 1 cup flour, 1 egg, 1 cup milk makes 4 pancakes). Call the function and print\n",
    "##### the result."
   ]
  },
  {
   "cell_type": "code",
   "execution_count": 18,
   "id": "df514e0b-1e6c-4130-8abf-b2c923730aaa",
   "metadata": {},
   "outputs": [
    {
     "name": "stdout",
     "output_type": "stream",
     "text": [
      "The total number of pancakes you can make is: 4\n"
     ]
    }
   ],
   "source": [
    "def make_pancake(flour, eggs, milk):\n",
    "    pancake_from_flour = flour * 4\n",
    "    pancake_from_eggs = eggs * 4\n",
    "    pancake_from_milk = milk * 4\n",
    "    \n",
    "    return min(pancake_from_flour, pancake_from_eggs, pancake_from_milk)\n",
    "\n",
    "flour = 2\n",
    "eggs = 3\n",
    "milk = 1\n",
    "\n",
    "total_pancakes = make_pancake(flour, eggs, milk)\n",
    "print(f\"The total number of pancakes you can make is: {total_pancakes}\")"
   ]
  },
  {
   "cell_type": "markdown",
   "id": "c8fd40c1-cba4-4aea-b8e2-f5aef6b80324",
   "metadata": {},
   "source": [
    "### 3. Temperature Converter:\n",
    "##### Write a function convert_to_fahrenheit(celsius) that converts a temperature from\n",
    "##### Celsius to Fahrenheit.\n",
    "##### Formula: (Celsius * 9/5) + 32 = Fahrenheit. Call the function with a temperature of\n",
    "##### 20°C."
   ]
  },
  {
   "cell_type": "code",
   "execution_count": 30,
   "id": "a0971d45-5439-4bde-a0b3-c0a5ed8e70a1",
   "metadata": {},
   "outputs": [
    {
     "name": "stdin",
     "output_type": "stream",
     "text": [
      " 35\n"
     ]
    },
    {
     "name": "stdout",
     "output_type": "stream",
     "text": [
      "Coversion of 20 deg celsius to farenheit is: 95.0\n"
     ]
    }
   ],
   "source": [
    "def convert_to_farenheit(celsius):\n",
    "    farenheit = (celsius * 9/5) + 32\n",
    "    return farenheit\n",
    "\n",
    "celsius = int(input()) \n",
    "result = convert_to_farenheit(celsius)\n",
    "print(f\"Coversion of 20 deg celsius to farenheit is: {result}\")"
   ]
  },
  {
   "cell_type": "markdown",
   "id": "d818da1d-2062-4892-97ed-38c184994659",
   "metadata": {},
   "source": [
    "### 4. Number Cruncher:\n",
    "##### Create a function add_two_numbers(num1, num2) that takes two numbers as\n",
    "##### arguments and returns their sum. Test the function by adding 3 and 7."
   ]
  },
  {
   "cell_type": "code",
   "execution_count": 24,
   "id": "9a097ca1-78a3-4e9c-bfd8-839f54d4b506",
   "metadata": {},
   "outputs": [
    {
     "name": "stdout",
     "output_type": "stream",
     "text": [
      "The addition of 3 and 7 is: 10\n"
     ]
    }
   ],
   "source": [
    "def add_two_numbers(num1, num2):\n",
    "    return num1 + num2\n",
    "\n",
    "num1 = 3\n",
    "num2 = 7\n",
    "\n",
    "result = add_two_numbers(num1, num2)\n",
    "print(f\"The addition of {num1} and {num2} is: {result}\")"
   ]
  },
  {
   "cell_type": "markdown",
   "id": "3ae5ab69-082d-481a-bdcc-b995d6153b70",
   "metadata": {},
   "source": [
    "### 5. The Personalized Welcome:\n",
    "##### Write a function personalized_welcome(name) that takes a name and prints out:\n",
    "##### \"Welcome, <name>! You are doing amazing!\". Try calling the function with different\n",
    "##### names."
   ]
  },
  {
   "cell_type": "code",
   "execution_count": 28,
   "id": "f1193774-f4a6-4536-9099-68034b46869d",
   "metadata": {},
   "outputs": [
    {
     "name": "stdout",
     "output_type": "stream",
     "text": [
      "Welcome, Timothy! You are doing amazing!\n"
     ]
    }
   ],
   "source": [
    "def personalized_welcome(name):\n",
    "    return name\n",
    "name = \"Timothy\"\n",
    "result = personalized_welcome(name)\n",
    "print(f\"Welcome, {result}! You are doing amazing!\")"
   ]
  },
  {
   "cell_type": "markdown",
   "id": "2805dc39-cd60-4060-9d2d-fc5a35c8cfa7",
   "metadata": {},
   "source": [
    "## Intermediate Level\n",
    "### 1. Math Quiz:\n",
    "##### Write a function math_quiz(num1, num2) that accepts two numbers and returns the\n",
    "##### sum, difference, product, and quotient of these two numbers in a tuple. For example:\n",
    "##### (sum, difference, product, quotient). Call the function with 5 and 3."
   ]
  },
  {
   "cell_type": "code",
   "execution_count": 44,
   "id": "6a3d3be1-55e0-498b-84b1-f36a1b4beeda",
   "metadata": {},
   "outputs": [
    {
     "name": "stdout",
     "output_type": "stream",
     "text": [
      "The answer is: (8, 2, 15, 1.6666666666666667)\n"
     ]
    }
   ],
   "source": [
    "def math_quiz(num1, num2):\n",
    "    sum_result = num1 + num2\n",
    "    difference_result = num1 - num2\n",
    "    product_result = num1 * num2\n",
    "    quotient_result = num1 / num2 if num2 != 0 else \"N/A\"\n",
    "    return (sum_result, difference_result, product_result, quotient_result)\n",
    "\n",
    "num1 = 5\n",
    "num2 = 3\n",
    "\n",
    "result = math_quiz(num1, num2)\n",
    "print(f\"The answer is: {result}\")"
   ]
  },
  {
   "cell_type": "markdown",
   "id": "95617611-8216-4010-876d-3ebe1e91283b",
   "metadata": {},
   "source": [
    "### 2. Magic Box:\n",
    "##### Create a function magic_box(item1, item2) that returns a sentence like: \"You have\n",
    "##### placed \"item1\" and \"item2\" in the magic box!\". Make the items \"a book\" and \"a\n",
    "##### pen\". Test the function with different items."
   ]
  },
  {
   "cell_type": "code",
   "execution_count": 53,
   "id": "7e69f76b-763a-4db4-8a50-e1a0cb617906",
   "metadata": {},
   "outputs": [
    {
     "name": "stdout",
     "output_type": "stream",
     "text": [
      "You have placed a book and a pen in the magic box!: \n"
     ]
    }
   ],
   "source": [
    "def magic_box(item1, item2):\n",
    "    return f\"You have placed {item1} and {item2} in the magic box!: \"\n",
    "   \n",
    "item1 = \"a book\"\n",
    "item2 = \"a pen\"\n",
    "\n",
    "result = magic_box(item1, item2)\n",
    "print(result)    "
   ]
  },
  {
   "cell_type": "markdown",
   "id": "72290b75-6e7c-4dc8-9b2e-d2796ae116e7",
   "metadata": {},
   "source": [
    "### 3. Superhero Power Check:\n",
    "##### Write a function can_fly(power_level) that takes the power level of a superhero as\n",
    "##### input and returns \"You can fly!\" if the power level is greater than 100, or \"Try again,\n",
    "##### keep training!\" if the power level is 100 or less."
   ]
  },
  {
   "cell_type": "code",
   "execution_count": 63,
   "id": "384f1105-aefc-4d62-85f5-a126cde19d88",
   "metadata": {},
   "outputs": [
    {
     "name": "stdin",
     "output_type": "stream",
     "text": [
      "Enter the power level:  50\n"
     ]
    },
    {
     "name": "stdout",
     "output_type": "stream",
     "text": [
      "Try again, keep training\n"
     ]
    }
   ],
   "source": [
    "def can_fly(power_level):\n",
    "    while power_level > 100:\n",
    "        print(\"You can fly\")\n",
    "        break\n",
    "    else:\n",
    "        print(\"Try again, keep training\")\n",
    "\n",
    "power_level = int(input(\"Enter the power level: \"))\n",
    "can_fly(power_level)"
   ]
  },
  {
   "cell_type": "markdown",
   "id": "178808f8-70fd-4c06-976c-3f8aea0de167",
   "metadata": {},
   "source": [
    "### 4. Shape Area Calculator:\n",
    "##### Create a function calculate_area(shape, dimension1, dimension2=0) that calculates the\n",
    "##### area of a rectangle (length × width) or square (side × side). The second dimension\n",
    "##### should default to 0 for squares. Test your function with both shapes."
   ]
  },
  {
   "cell_type": "code",
   "execution_count": 68,
   "id": "4512d3e6-90a8-40d0-b0e2-49d4d8d97815",
   "metadata": {},
   "outputs": [
    {
     "name": "stdout",
     "output_type": "stream",
     "text": [
      "The area of the rectangle is: 15\n",
      "The area of the square is: 16\n"
     ]
    }
   ],
   "source": [
    "def calculate_area(shape, dimension1, dimension2=0):\n",
    "    if shape.lower() == \"rectangle\":\n",
    "        return dimension1 * dimension2\n",
    "\n",
    "    elif shape.lower() == \"square\":\n",
    "        return dimension1 * dimension1\n",
    "    else:\n",
    "        return \"Invalid Shape\"\n",
    "\n",
    "rectangle_area = calculate_area(\"rectangle\", 5, 3)\n",
    "square_area = calculate_area(\"square\", 4)\n",
    "\n",
    "print(f\"The area of the rectangle is: {rectangle_area}\")\n",
    "print(f\"The area of the square is: {square_area}\")\n"
   ]
  },
  {
   "cell_type": "markdown",
   "id": "c02f0ee7-1067-441a-b8f2-b97408f2d1e4",
   "metadata": {},
   "source": [
    "### 5. Discount Finder:\n",
    "##### Write a function calculate_discount(price, discount_percentage) that takes the price of\n",
    "##### an item and a discount percentage and returns the price after discount. For example, a\n",
    "##### price of 100 with a discount of 20% should return 80."
   ]
  },
  {
   "cell_type": "code",
   "execution_count": 69,
   "id": "0467a93c-6f9f-408d-9e61-df03dbd12c1b",
   "metadata": {},
   "outputs": [
    {
     "name": "stdin",
     "output_type": "stream",
     "text": [
      "Enter the priceof item:  100\n"
     ]
    },
    {
     "name": "stdout",
     "output_type": "stream",
     "text": [
      "The discount for this item at the rate of 100 is: 80.0\n"
     ]
    }
   ],
   "source": [
    "def calculate_discount(price, discount_percentage):\n",
    "    return price - (price * discount_percentage)\n",
    "\n",
    "price = int(input(\"Enter the price of item: \"))\n",
    "discount_percentage = 0.2\n",
    "\n",
    "result = calculate_discount(price, discount_percentage)\n",
    "print(f\"The discount for this item at the rate of {price} is: {result}\")"
   ]
  },
  {
   "cell_type": "markdown",
   "id": "448ea508-2c35-4c70-9a4f-8511a5daff57",
   "metadata": {},
   "source": [
    "## Advanced Level\n",
    "### 1. Palindrome Checker:\n",
    "##### Write a function is_palindrome(word) that takes a string and checks if it is a\n",
    "##### palindrome. If it is, return \"It’s a palindrome!\"; otherwise, return \"Not a palindrome!\".\n",
    "##### Try it with words like \"level\" and \"hello\"."
   ]
  },
  {
   "cell_type": "code",
   "execution_count": 77,
   "id": "5e5e6aa6-2aed-4556-a002-0b4146b7039b",
   "metadata": {},
   "outputs": [
    {
     "name": "stdin",
     "output_type": "stream",
     "text": [
      "Enter the word to check:  madam\n"
     ]
    },
    {
     "name": "stdout",
     "output_type": "stream",
     "text": [
      "It's a palindrome!\n"
     ]
    }
   ],
   "source": [
    "def is_palindrome(word):\n",
    "    word = word.replace(\" \", \"\").lower()  # Remove any spaces and convert to lowercase for uniformity\n",
    "    if word == word[::-1]:      # Check if the word is equal to its reverse\n",
    "        return \"It's a palindrome!\"\n",
    "    else:\n",
    "        return \"Not a palindrome!\"\n",
    "    \n",
    "word = input(\"Enter the word to check: \")  # e.g of palindrome are racecar, level, madam, civic, radar, refer, rotor\n",
    "result = is_palindrome(word)\n",
    "print(result)\n"
   ]
  },
  {
   "cell_type": "markdown",
   "id": "a77b8cc3-36d8-4677-91ae-2a85ea1a063c",
   "metadata": {},
   "source": [
    "### 2. Mystery Calculator:\n",
    "##### Create a function mystery_calculation(a, b, c) that accepts three numbers and returns\n",
    "##### the result of the following formula:\n",
    "##### ((a + b) * c) / 2. Call the function with 5, 7, and 10."
   ]
  },
  {
   "cell_type": "code",
   "execution_count": 78,
   "id": "3d4f68a3-461c-4597-99cd-3121e3573681",
   "metadata": {},
   "outputs": [
    {
     "name": "stdout",
     "output_type": "stream",
     "text": [
      "60.0\n"
     ]
    }
   ],
   "source": [
    "def mystery_calculation(a, b, c):\n",
    "    return ((a+b)*c)/2\n",
    "\n",
    "a = 5\n",
    "b = 7\n",
    "c = 10\n",
    "\n",
    "result = mystery_calculation(a, b, c)\n",
    "print(result)"
   ]
  },
  {
   "cell_type": "markdown",
   "id": "68d49500-9af9-46c0-8b55-ca6911e1fd37",
   "metadata": {},
   "source": [
    "### 3. Fibonacci Sequence Generator:\n",
    "##### Write a function generate_fibonacci(n) that returns the first n numbers of the\n",
    "##### Fibonacci sequence. For example, for n = 5, the output should be [0, 1, 1, 2, 3]."
   ]
  },
  {
   "cell_type": "code",
   "execution_count": 82,
   "id": "b4ae37b6-6e1b-4631-9e11-d2b3e092abbc",
   "metadata": {},
   "outputs": [
    {
     "name": "stdout",
     "output_type": "stream",
     "text": [
      "The first 5 numbers of the Fibonacci sequence are: [0, 1, 1, 2, 3]\n"
     ]
    }
   ],
   "source": [
    "def generate_fibonacci(n):\n",
    "    if n <= 0:\n",
    "        return []\n",
    "    elif n == 1:\n",
    "        return [0]\n",
    "    elif n == 2:\n",
    "        return [0, 1]\n",
    "\n",
    "    fibonacci_sequence = [0, 1]\n",
    "    for i in range(2, n):\n",
    "        fib = fibonacci_sequence[-1] + fibonacci_sequence[-2]\n",
    "        fibonacci_sequence.append(fib)\n",
    "    return fibonacci_sequence\n",
    "\n",
    "# Example usage\n",
    "n = 5\n",
    "result = generate_fibonacci(n)\n",
    "print(f\"The first {n} numbers of the Fibonacci sequence are: {result}\")        "
   ]
  },
  {
   "cell_type": "markdown",
   "id": "06102411-0127-4da1-b189-5e75a0dd110d",
   "metadata": {},
   "source": [
    "### 4. Word Frequency Counter:\n",
    "##### Create a function count_word_frequency(text, word) that takes a string and a word,\n",
    "##### then counts how many times the word appears in the string. Call it with the sentence\n",
    "##### \"Python is fun, Python is powerful\" and the word \"Python\"."
   ]
  },
  {
   "cell_type": "code",
   "execution_count": 80,
   "id": "818302b3-3960-4128-92de-e2dbef09d2e8",
   "metadata": {},
   "outputs": [
    {
     "name": "stdout",
     "output_type": "stream",
     "text": [
      "The word \"Python\" appears 2 times in the text.\n"
     ]
    }
   ],
   "source": [
    "def count_word_frequency(text, word):\n",
    "    # Convert the text to lowercase and split it into words\n",
    "    words = text.lower().split()\n",
    "    # Convert the word to lowercase for case-insensitive comparison\n",
    "    word = word.lower()\n",
    "    # Count the occurrences of the word in the list of words\n",
    "    return words.count(word)\n",
    "\n",
    "# Example usage\n",
    "text = \"Python is fun, Python is powerful\"\n",
    "word = \"Python\"\n",
    "result = count_word_frequency(text, word)\n",
    "print(f'The word \"{word}\" appears {result} times in the text.')\n"
   ]
  },
  {
   "cell_type": "markdown",
   "id": "5b2b8ac4-fc04-4191-9afb-64e61a82c1fa",
   "metadata": {},
   "source": [
    "### 5. Mystery Number Finder:\n",
    "##### Write a function find_mystery_number(numbers) that accepts a list of numbers and\n",
    "##### returns the largest even number in the list. If there are no even numbers, return \"No\n",
    "##### even numbers found!\". Test the function with the list [3, 5, 7, 8, 12, 14]."
   ]
  },
  {
   "cell_type": "code",
   "execution_count": 81,
   "id": "c1ac30dc-72af-4975-9c55-25e7b7247559",
   "metadata": {},
   "outputs": [
    {
     "name": "stdout",
     "output_type": "stream",
     "text": [
      "14\n"
     ]
    }
   ],
   "source": [
    "def find_mystery_number(numbers):\n",
    "    even_numbers = [num for num in numbers if num % 2 == 0]\n",
    "    if even_numbers:\n",
    "        return max(even_numbers)\n",
    "    else:\n",
    "        return \"No even numbers found!\"\n",
    "\n",
    "# Example usage\n",
    "numbers = [3, 5, 7, 8, 12, 14]\n",
    "result = find_mystery_number(numbers)\n",
    "print(result)\n"
   ]
  },
  {
   "cell_type": "code",
   "execution_count": null,
   "id": "e6539844-db12-4abc-8247-c9aa041066a8",
   "metadata": {},
   "outputs": [],
   "source": []
  }
 ],
 "metadata": {
  "kernelspec": {
   "display_name": "Python 3 (ipykernel)",
   "language": "python",
   "name": "python3"
  },
  "language_info": {
   "codemirror_mode": {
    "name": "ipython",
    "version": 3
   },
   "file_extension": ".py",
   "mimetype": "text/x-python",
   "name": "python",
   "nbconvert_exporter": "python",
   "pygments_lexer": "ipython3",
   "version": "3.12.7"
  }
 },
 "nbformat": 4,
 "nbformat_minor": 5
}
